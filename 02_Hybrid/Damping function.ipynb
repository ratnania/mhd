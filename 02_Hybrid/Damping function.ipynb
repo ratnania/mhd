{
 "cells": [
  {
   "cell_type": "code",
   "execution_count": 9,
   "metadata": {},
   "outputs": [
    {
     "data": {
      "text/plain": [
       "[<matplotlib.lines.Line2D at 0x7fa2e11309b0>]"
      ]
     },
     "execution_count": 9,
     "metadata": {},
     "output_type": "execute_result"
    },
    {
     "data": {
      "image/png": "[encoded data removed]",
      "text/plain": [
       "<matplotlib.figure.Figure at 0x7fa2e1130a20>"
      ]
     },
     "metadata": {},
     "output_type": "display_data"
    }
   ],
   "source": [
    "import numpy as np\n",
    "import matplotlib.pyplot as plt\n",
    "\n",
    "def fDL(n,Nd,N):\n",
    "        \n",
    "    a = -1/Nd**2\n",
    "    b = -2*a*Nd\n",
    "        \n",
    "    return a*n**2 + b*n\n",
    "\n",
    "def fDR(n,Nd,N):\n",
    "    \n",
    "    a = 1/(2*N*(N - Nd) - (N - Nd)**2 - N**2)\n",
    "    b = -2*a*(N-Nd)\n",
    "    c = 2*a*N*(N - Nd) - a*N**2\n",
    "    \n",
    "    return a*n**2 + b*n + c\n",
    "\n",
    "\n",
    "\n",
    "Nz = 256\n",
    "Nd = 20\n",
    "\n",
    "\n",
    "\n",
    "nl = np.linspace(0,Nd,Nd+1)\n",
    "nr = np.linspace(Nz-Nd,Nz,Nd+1)\n",
    "\n",
    "fl = fDL(nl,Nd,Nz)\n",
    "fr = fDR(nr,Nd,Nz)\n",
    "\n",
    "plt.plot(nl,fl)\n",
    "plt.plot(nr,fr)"
   ]
  },
  {
   "cell_type": "code",
   "execution_count": 11,
   "metadata": {},
   "outputs": [
    {
     "data": {
      "text/plain": [
       "array([0.    , 0.    , 0.0975, 0.0975, 0.19  , 0.19  , 0.2775, 0.2775,\n",
       "       0.36  , 0.36  , 0.4375, 0.4375, 0.51  , 0.51  , 0.5775, 0.5775,\n",
       "       0.64  , 0.64  , 0.6975, 0.6975, 0.75  , 0.75  , 0.7975, 0.7975,\n",
       "       0.84  , 0.84  , 0.8775, 0.8775, 0.91  , 0.91  , 0.9375, 0.9375,\n",
       "       0.96  , 0.96  , 0.9775, 0.9775, 0.99  , 0.99  , 0.9975, 0.9975,\n",
       "       1.    , 1.    ])"
      ]
     },
     "execution_count": 11,
     "metadata": {},
     "output_type": "execute_result"
    }
   ],
   "source": [
    "np.repeat(fl,2)"
   ]
  },
  {
   "cell_type": "code",
   "execution_count": 12,
   "metadata": {},
   "outputs": [
    {
     "data": {
      "text/plain": [
       "array([236., 237., 238., 239., 240., 241., 242., 243., 244., 245., 246.,\n",
       "       247., 248., 249., 250., 251., 252., 253., 254., 255., 256.])"
      ]
     },
     "execution_count": 12,
     "metadata": {},
     "output_type": "execute_result"
    }
   ],
   "source": [
    "nr"
   ]
  },
  {
   "cell_type": "code",
   "execution_count": null,
   "metadata": {},
   "outputs": [],
   "source": []
  }
 ],
 "metadata": {
  "kernelspec": {
   "display_name": "Python 3",
   "language": "python",
   "name": "python3"
  },
  "language_info": {
   "codemirror_mode": {
    "name": "ipython",
    "version": 3
   },
   "file_extension": ".py",
   "mimetype": "text/x-python",
   "name": "python",
   "nbconvert_exporter": "python",
   "pygments_lexer": "ipython3",
   "version": "3.5.2"
  }
 },
 "nbformat": 4,
 "nbformat_minor": 2
}
