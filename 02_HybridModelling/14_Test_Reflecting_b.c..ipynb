{
 "cells": [
  {
   "cell_type": "code",
   "execution_count": 2,
   "metadata": {},
   "outputs": [],
   "source": [
    "import numpy as np\n",
    "import matplotlib.pyplot as plt\n",
    "from Utils_Dipole.borisPush import borisPush"
   ]
  },
  {
   "cell_type": "code",
   "execution_count": 3,
   "metadata": {},
   "outputs": [],
   "source": [
    "# create some particles\n",
    "Lz = 327.7\n",
    "Np = 10\n",
    "xi = 8.62e-5\n",
    "bcs = 2\n",
    "T = 1000\n",
    "dt = 0.05\n",
    "wperp = 0.53\n",
    "wpar = 0.2\n",
    "me = 1\n",
    "qe = -1\n",
    "B0 = 1.0\n",
    "Nt = np.int(T/dt)\n",
    "tn = np.linspace(0,T,Nt+1)\n",
    "\n",
    "particles = np.zeros((Nt+1,Np,5))\n",
    "particles[0,:,0] = np.random.rand(Np)*Lz\n",
    "particles[0,:,1] = np.random.randn(Np)*wperp\n",
    "particles[0,:,2] = np.random.randn(Np)*wperp\n",
    "particles[0,:,3] = np.random.randn(Np)*wpar\n",
    "# ...\n",
    "\n",
    "#particles[0,0,0] = 320\n",
    "#particles[0,0,3] = 0.4\n",
    "\n",
    "# define backgroud field\n",
    "def B_background_z(z):\n",
    "    return B0*(1 + xi*(z - Lz/2)**2)\n",
    "\n",
    "def B_background(x,y,z):\n",
    "    \n",
    "    Bx = -x*(z - Lz/2)*B0*xi\n",
    "    By = -y*(z - Lz/2)*B0*xi\n",
    "    Bz = B0*(1 + xi*(z - Lz/2)**2)\n",
    "    \n",
    "    return np.transpose(np.array([Bx,By,Bz]))\n",
    "\n",
    "Ep = np.zeros((Np,3))\n",
    "Bp = np.zeros((Np,3))\n",
    "\n",
    "Bp[:,2] = B_background_z(particles[0,:,0])\n",
    "rho = -me/qe*np.cross(particles[0,:,1:4],np.array([0,0,1]))/Bp[:,2][:,None]\n",
    "    \n",
    "Bp[:,0:2] += B_background(rho[:,0],rho[:,1],particles[0,:,0])[:,0:2]\n",
    "\n",
    "# initialize velocity\n",
    "particles[0,:,1:4] = borisPush(particles[0],-dt/2,Bp,Ep,qe,me,Lz,bcs)[1]\n",
    "\n",
    "# time integration\n",
    "for n in range(0,Nt):\n",
    "    Bp = np.zeros((Np,3))\n",
    "    Bp[:,2] = B_background_z(particles[n,:,0])\n",
    "    rho = -me/qe*np.cross(particles[n,:,1:4],np.array([0,0,1]))/Bp[:,2][:,None]\n",
    "    \n",
    "    Bp[:,0:2] += B_background(rho[:,0],rho[:,1],particles[n,:,0])[:,0:2]\n",
    "    \n",
    "    particles[n+1,:,0],particles[n+1,:,1:4] = borisPush(particles[n],dt,Bp,Ep,qe,me,Lz,bcs)"
   ]
  },
  {
   "cell_type": "code",
   "execution_count": 11,
   "metadata": {},
   "outputs": [
    {
     "data": {
      "text/plain": [
       "Text(0.5,0,'t')"
      ]
     },
     "execution_count": 11,
     "metadata": {},
     "output_type": "execute_result"
    },
    {
     "data": {
      "image/png": "[encoded data removed]",
      "text/plain": [
       "<matplotlib.figure.Figure at 0x7f41286c0fd0>"
      ]
     },
     "metadata": {},
     "output_type": "display_data"
    }
   ],
   "source": [
    "plt.plot(tn,particles[:,4,0])\n",
    "plt.ylim((0,Lz))\n",
    "plt.ylabel('z')\n",
    "plt.xlabel('t')"
   ]
  },
  {
   "cell_type": "code",
   "execution_count": 41,
   "metadata": {},
   "outputs": [],
   "source": [
    "from Utils_Dipole.createBasis import createBasis\n",
    "from Utils_Dipole.matrixAssembly import matrixAssembly\n",
    "\n",
    "Nel = 32\n",
    "Lz = 327.7\n",
    "p = 3\n",
    "bcs = 2\n",
    "\n",
    "def damp(z):\n",
    "        \n",
    "        if z <= Ld:\n",
    "            return np.sin(np.pi*z/(2*Ld))\n",
    "        elif z >= Lz-Ld:\n",
    "            return np.sin(np.pi*(Lz-z)/(2*Ld))\n",
    "        else:\n",
    "            return 1.0\n",
    "        \n",
    "def dz_damp(z):\n",
    "        \n",
    "    if z <= Ld:\n",
    "            return np.cos(np.pi*z/(2*Ld))*np.pi/(2*Ld)\n",
    "    elif z >= Lz - Ld:\n",
    "            return -np.cos(np.pi*(Lz-z)/(2*Ld))*np.pi/(2*Ld)\n",
    "    else:\n",
    "        return 0.0\n",
    "bsp,N,quad_points,weights = createBasis(Lz,Nel,p,bcs)\n",
    "M,C,D = matrixAssembly(bsp,p,Nel,weights,quad_points,B_background_z,bcs,damp,dz_damp)"
   ]
  },
  {
   "cell_type": "code",
   "execution_count": null,
   "metadata": {},
   "outputs": [],
   "source": []
  }
 ],
 "metadata": {
  "kernelspec": {
   "display_name": "Python 3",
   "language": "python",
   "name": "python3"
  },
  "language_info": {
   "codemirror_mode": {
    "name": "ipython",
    "version": 3
   },
   "file_extension": ".py",
   "mimetype": "text/x-python",
   "name": "python",
   "nbconvert_exporter": "python",
   "pygments_lexer": "ipython3",
   "version": "3.5.2"
  }
 },
 "nbformat": 4,
 "nbformat_minor": 2
}
