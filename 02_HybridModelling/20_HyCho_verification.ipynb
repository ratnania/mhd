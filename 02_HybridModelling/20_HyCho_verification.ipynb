{
 "cells": [
  {
   "cell_type": "code",
   "execution_count": 1,
   "metadata": {},
   "outputs": [],
   "source": [
    "import time\n",
    "\n",
    "import numpy as np\n",
    "import scipy as sc\n",
    "\n",
    "import bsplines  as bsp\n",
    "\n",
    "import HyCho_FEM as fem\n",
    "import HyCho_PIC\n",
    "#import HyCho_PIC as pic\n",
    "\n",
    "import utilitis_opt as utils_opt\n",
    "import utilitis_pic_Rel\n",
    "#import utilitis_pic_Rel as utils_pic_fast\n",
    "\n",
    "import matplotlib.pyplot as plt\n",
    "\n",
    "from scipy.sparse.linalg import splu\n",
    "from scipy.sparse        import block_diag\n",
    "from scipy.sparse.linalg import inv"
   ]
  },
  {
   "cell_type": "code",
   "execution_count": 2,
   "metadata": {},
   "outputs": [
    {
     "name": "stdout",
     "output_type": "stream",
     "text": [
      "pyccelization of pic functions done!\n",
      "pyccelization of pic functions done!\n"
     ]
    }
   ],
   "source": [
    "#====================================================================================\n",
    "#  calling epyccel\n",
    "#====================================================================================\n",
    "from pyccel.epyccel import epyccel\n",
    "utils_pic_fast = epyccel(utilitis_pic_Rel)\n",
    "\n",
    "print('pyccelization of pic functions done!')\n",
    "#====================================================================================\n",
    "\n",
    "\n",
    "#====================================================================================\n",
    "#  calling epyccel\n",
    "#====================================================================================\n",
    "from pyccel.epyccel import epyccel\n",
    "pic = epyccel(HyCho_PIC)\n",
    "\n",
    "print('pyccelization of pic functions done!')\n",
    "#===================================================================================="
   ]
  },
  {
   "cell_type": "code",
   "execution_count": 3,
   "metadata": {},
   "outputs": [
    {
     "name": "stdout",
     "output_type": "stream",
     "text": [
      "matrix assembly done!\n",
      "projection of initial fields done!\n",
      "LU factorization done!\n",
      "damping assembly done!\n"
     ]
    }
   ],
   "source": [
    "#===== Is this run a restart? (restart = 0: no, restart = 1: yes) ===================\n",
    "restart            = 0\n",
    "\n",
    "max_time           = 30*60         # maximum runtime of program in minutes\n",
    "time_restart_files = 40*60          # time interval for restart files in minutes\n",
    "\n",
    "name_particles     = 'restart_files/particles1.npy'\n",
    "name_fields        = 'restart_files/fields1.npy'\n",
    "name_time_step     = 'restart_files/time_step1.npy'\n",
    "name_control       = 'restart_files/control_variate1.npy'\n",
    "#====================================================================================\n",
    "\n",
    "\n",
    "#=========================== time integration =======================================\n",
    "time_integr = 1                    # do time integration? (1 : yes, 0: no)\n",
    "title       = 'results/run_L=327.7_Nel=2000_T=300_dt=0.04_Np=4e6_nuh=6e-2_xi=0_False.txt'           # name of file to save data\n",
    "#====================================================================================\n",
    "\n",
    "\n",
    "#===== physical parameters ==========================================================\n",
    "wpe   = 5.                         # cold electron plasma frequency\n",
    "nuh   = 6e-2                       # ratio of cold/hot electron densities (nh/nc)\n",
    "nh    = nuh*wpe**2                 # hot electron density\n",
    "wpar  = 0.2                        # parallel thermal velocity of energetic particles\n",
    "wperp = 0.53                       # perpendicular thermal velocity of energetic particles\n",
    "xi    = 0.                         # inhomogeneity factor of background magnetic field\n",
    "\n",
    "rel   = 1                          # relativistic effects? (1: yes, 0: no)\n",
    "bc_d  = 1                          # damping of E and j at boundaries? (1: yes, 0: no)\n",
    "bc_f  = 1                          # field line dependence of initial distribution function? (1: yes, 0: no)\n",
    "#===================================================================================\n",
    "\n",
    "\n",
    "\n",
    "#===== numerical parameters =========================================================\n",
    "bc      = False                    # boundary conditions (True: periodic, False: homogeneous Dirichlet)\n",
    "k       = 2.                       # wavenumber of initial wave field perturbations\n",
    "Lz      = 327.7                     # length of z-domain\n",
    "Nel     = 1800                      # number of elements z-direction\n",
    "T       = 1.                     # simulation time\n",
    "dt      = 0.04                      # time step\n",
    "p       = 3                        # degree of B-spline basis functions in V0\n",
    "Np      = np.int(5e6)              # number of markers\n",
    "control = 1                        # control variate for noise reduction? (1: yes, 0: no)\n",
    "Ld      = 0.046*Lz                 # length of damping region at each end\n",
    "#====================================================================================\n",
    "\n",
    "\n",
    "#===== evaluation points for the magnetic field======================================\n",
    "eva_points_Bx = np.array([100., 200., 300.])\n",
    "#====================================================================================\n",
    "\n",
    "\n",
    "#===== initial conditions ===========================================================\n",
    "amp = 1e-4                         # amplitude of initial wave field perturbations\n",
    "\n",
    "Ex0 = lambda z : 0*z               # initial Ex\n",
    "Ey0 = lambda z : 0*z               # initial Ey\n",
    "\n",
    "'''\n",
    "def Bx0(z):\n",
    "    \n",
    "    values = np.zeros(z.shape, dtype=float)\n",
    "    modesz = np.linspace(0, Nel, Nel + 1) - Nel/2\n",
    "    modesz = np.delete(modesz, int(Nel/2))\n",
    "    \n",
    "    for i in range(Nel):\n",
    "        values += amp*np.sin(2*np.pi*modesz[i]*z/Lz)\n",
    "        \n",
    "    return values\n",
    "'''\n",
    "\n",
    "Bx0 = lambda z : amp*np.sin(104*2*np.pi*z/Lz) # initial Bx\n",
    "By0 = lambda z : 0*z               # initial By\n",
    "jx0 = lambda z : 0*z               # initial jcx\n",
    "jy0 = lambda z : 0*z               # initial jcy\n",
    "#====================================================================================\n",
    "\n",
    "\n",
    "\n",
    "#===== discretization of spatial domain =============================================\n",
    "dz   = Lz/Nel                                # element size\n",
    "el_b = np.linspace(0., Lz, Nel + 1)          # element boundaries\n",
    "\n",
    "Nbase0     = Nel + p - bc*p                  # total number of basis functions in V0\n",
    "Nbase0_dof = Nbase0 - 2 + 2*bc               # number of degrees of freedom in V1\n",
    "\n",
    "Nbase1     = Nbase0 - 1 + bc                 # total number of basis functions in V1\n",
    "Nbase1_dof = Nbase1                          # number of degrees of freedom in V1\n",
    "#====================================================================================\n",
    "\n",
    "\n",
    "\n",
    "#===== some diagnostic values =======================================================\n",
    "nh       = nuh*wpe**2                                 # hot electron density\n",
    "Eh_eq    = Lz*nh/2*(wpar**2 + 2*wperp**2)             # equilibrium energetic electron energy\n",
    "\n",
    "energies = np.empty(4, dtype=float)                   # energies: E, B, Cold, Hot\n",
    "\n",
    "Bx       = np.empty(len(eva_points_Bx), dtype=float)  \n",
    "#====================================================================================\n",
    "\n",
    "\n",
    "#===== background field in z-direction ==============================================\n",
    "B_background_z = lambda z : 1. + xi*(z - Lz/2)**2\n",
    "#====================================================================================\n",
    "\n",
    "\n",
    "#===== initial energetic electron distribution function =============================\n",
    "def fh0(z, vx, vy, vz):\n",
    "\n",
    "    xiB = 1. - 1/B_background_z(z)\n",
    "    xiz = 1. + (wperp**2/wpar**2 - 1.)*xiB*bc_f\n",
    "\n",
    "    return nh/((2*np.pi)**(3/2)*wpar*wperp**2)*np.exp(-vz**2/(2*wpar**2) - xiz*(vx**2 + vy**2)/(2*wperp**2))\n",
    "#====================================================================================\n",
    "\n",
    "\n",
    "#===== Maxwellian for control variate ===============================================\n",
    "maxwell = lambda vx, vy, vz : nh/((2*np.pi)**(3/2)*wpar*wperp**2)*np.exp(-vz**2/(2*wpar**2) - (vx**2 + vy**2)/(2*wperp**2))\n",
    "#====================================================================================\n",
    "\n",
    "\n",
    "#===== sampling distribution for initial markers ====================================\n",
    "g_sampling = lambda vx, vy, vz : 1/((2*np.pi)**(3/2)*wpar*wperp**2)*np.exp(-vz**2/(2*wpar**2) - (vx**2 + vy**2)/(2*wperp**2))*1/Lz\n",
    "#====================================================================================\n",
    "\n",
    "\n",
    "\n",
    "#===== masking function to damp wave fields near boundaries =========================\n",
    "def damp(z):\n",
    "\n",
    "    if z <= Ld:\n",
    "        return np.sin(np.pi*z/(2*Ld))\n",
    "    elif z >= Lz - Ld:\n",
    "        return np.sin(np.pi*(Lz - z)/(2*Ld))\n",
    "    else:\n",
    "        return 1\n",
    "#====================================================================================\n",
    "\n",
    "\n",
    "\n",
    "#===== spline knot vector, global mass matrices (in V0 and V1) and gradient matrix ==\n",
    "T0 = bsp.make_knots(el_b, p, bc)\n",
    "T1 = T0[1:-1]\n",
    "\n",
    "M0 = fem.mass_V0(T0, p, bc)\n",
    "M1 = fem.mass_V1(T0, p, bc)\n",
    "MB = fem.mass_V0_B(T0, p, bc, B_background_z)\n",
    "\n",
    "G  = sc.sparse.csc_matrix(fem.GRAD(T0, p, bc))\n",
    "\n",
    "if bc == False:\n",
    "    M0 = M0[1:-1, 1:-1]\n",
    "    MB = MB[1:-1, 1:-1]\n",
    "    \n",
    "    G  = G[:, 1:-1]\n",
    "\n",
    "    \n",
    "D = sc.sparse.csr_matrix(bsp.collocation_matrix(T1, p - 1, eva_points_Bx, bc, normalize=True))\n",
    "print('matrix assembly done!')\n",
    "#====================================================================================\n",
    "\n",
    "\n",
    "\n",
    "#=================== coefficients for pp-forms ======================================\n",
    "if p == 3:\n",
    "    pp_0 = np.asfortranarray([[1/6, -1/(2*dz), 1/(2*dz**2), -1/(6*dz**3)], [2/3, 0., -1/dz**2, 1/(2*dz**3)], [1/6, 1/(2*dz), 1/(2*dz**2), -1/(2*dz**3)], [0., 0., 0., 1/(6*dz**3)]])\n",
    "    pp_1 = np.asfortranarray([[1/2, -1/dz, 1/(2*dz**2)], [1/2, 1/dz, -1/dz**2], [0., 0., 1/(2*dz**2)]])\n",
    "elif p == 2:\n",
    "    pp_0 = np.asfortranarray([[1/2, -1/dz, 1/(2*dz**2)], [1/2, 1/dz, -1/dz**2], [0., 0., 1/(2*dz**2)]])\n",
    "    pp_1 = np.asfortranarray([[1., -1/dz], [0., 1/dz]])\n",
    "else:\n",
    "    print('Only cubic and quadratic splines implemented!')\n",
    "#====================================================================================\n",
    "\n",
    "\n",
    "\n",
    "#===== reserve memory for unknowns ==================================================\n",
    "ex     = np.empty(Nbase0, dtype=float)\n",
    "ey     = np.empty(Nbase0, dtype=float)\n",
    "bx     = np.empty(Nbase1, dtype=float)\n",
    "by     = np.empty(Nbase1, dtype=float)\n",
    "yx     = np.empty(Nbase0, dtype=float)\n",
    "yy     = np.empty(Nbase0, dtype=float)\n",
    "\n",
    "uj     = np.empty(4*Nbase0_dof + 2*Nbase1_dof, dtype=float)\n",
    "z_old  = np.empty(Np, dtype=float)\n",
    "spans0 = np.empty(Np, dtype=int)\n",
    "\n",
    "jh_x   = np.empty(Nbase0, dtype=float)\n",
    "jh_y   = np.empty(Nbase0, dtype=float)\n",
    "\n",
    "Fh     = np.zeros(4*Nbase0_dof + 2*Nbase1_dof, dtype=float)\n",
    "#====================================================================================\n",
    "\n",
    "\n",
    "\n",
    "#===== initial coefficients with commuting projectors ===============================\n",
    "proj = fem.projectors_1d(T0, p, bc)\n",
    "\n",
    "ex[:] = proj.PI_0(Ex0)\n",
    "ey[:] = proj.PI_0(Ey0)\n",
    "bx[:] = proj.PI_1(Bx0)\n",
    "by[:] = proj.PI_1(By0)\n",
    "yx[:] = proj.PI_0(jx0)\n",
    "yy[:] = proj.PI_0(jy0)\n",
    "\n",
    "if bc == False:\n",
    "    uj[:] = np.concatenate((ex[1:-1], ey[1:-1], bx, by, yx[1:-1], yy[1:-1]))\n",
    "    \n",
    "else:\n",
    "    uj[:] = np.concatenate((ex, ey, bx, by, yx, yy))\n",
    "\n",
    "print('projection of initial fields done!')\n",
    "#====================================================================================\n",
    "\n",
    "\n",
    "\n",
    "#===== construct block matrices for field update ====================================\n",
    "I  = sc.sparse.identity(Nbase1_dof)\n",
    "A1 = sc.sparse.bmat([[M0, None, None, None, None, None],[None, M0, None, None, None, None], [None, None, I, None, None, None], [None, None, None, I, None, None], [None, None, None, None, M0, None], [None, None, None, None, None, M0]], format='csc')\n",
    "A2 = sc.sparse.bmat([[None, None, None, G.T.dot(M1), -M0, None],[None, None, -G.T.dot(M1), None, None, -M0], [None, G, None, None, None, None], [-G, None, None, None, None, None], [wpe**2*M0, None, None, None, None, -MB], [None, wpe**2*M0, None, None, MB, None]], format='csc')\n",
    "\n",
    "LHS = A1 - dt/2*A2\n",
    "RHS = A1 + dt/2*A2\n",
    "\n",
    "LU = sc.sparse.linalg.splu(LHS)\n",
    "print('LU factorization done!')\n",
    "\n",
    "\n",
    "if bc_d == 1:\n",
    "    \n",
    "    if bc == False:\n",
    "        greville = bsp.greville(T0, p, bc)[1:-1]\n",
    "        colloq = sc.sparse.csc_matrix(bsp.collocation_matrix(T0, p, greville, bc)[:, 1:-1])\n",
    "    else:\n",
    "        greville = bsp.greville(T0, p, bc)\n",
    "        colloq = sc.sparse.csc_matrix(bsp.collocation_matrix(T0, p, greville, bc))\n",
    "        \n",
    "    g_greville = np.zeros(Nbase0_dof, dtype=float)\n",
    "    \n",
    "    for i in range(Nbase0_dof):\n",
    "        g_greville[i] = damp(greville[i])\n",
    "            \n",
    "    G_greville = sc.sparse.diags(g_greville, 0)\n",
    "    DAMP       = inv(colloq).dot(G_greville.dot(colloq))\n",
    "             \n",
    "else:\n",
    "    DAMP = sc.sparse.identity(Nbase0_dof)\n",
    "    \n",
    "DAMP_block = sc.sparse.block_diag((DAMP, DAMP, sc.sparse.identity(Nbase1_dof), sc.sparse.identity(Nbase1_dof), DAMP, DAMP), format='csr')\n",
    "print('damping assembly done!')\n",
    "#===================================================================================="
   ]
  },
  {
   "cell_type": "code",
   "execution_count": 20,
   "metadata": {},
   "outputs": [
    {
     "name": "stdout",
     "output_type": "stream",
     "text": [
      "matrix assembly done!\n",
      "projection of initial fields done!\n",
      "LU factorization done!\n",
      "damping assembly done!\n"
     ]
    }
   ],
   "source": [
    "#===== Is this run a restart? (restart = 0: no, restart = 1: yes) ===================\n",
    "restart            = 0\n",
    "\n",
    "max_time           = 30*60          # maximum runtime in minutes\n",
    "time_restart_files = 40*60          # time after which the current configuration is saved in minutes\n",
    "\n",
    "name_particles     = 'restart_files/particles1.npy'\n",
    "name_fields        = 'restart_files/fields1.npy'\n",
    "name_time_step     = 'restart_files/time_step1.npy'\n",
    "name_control       = 'restart_files/control_variate1.npy'\n",
    "#====================================================================================\n",
    "\n",
    "\n",
    "\n",
    "#===== saving data? (save = 1: yes, save = 0: no). If yes, name directory ===========\n",
    "save        = 1\n",
    "title       = 'results/short_old.txt' \n",
    "saving_step = 1                    # save data only every saving_stepth time step\n",
    "time_integr = 1                    # do time integration? (1 : yes, 0: no)\n",
    "#====================================================================================\n",
    "\n",
    "\n",
    "\n",
    "#===== physical parameters ==========================================================\n",
    "eps0  = 1.0                        # vacuum permittivity\n",
    "mu0   = 1.0                        # vacuum permeability\n",
    "c     = 1.0                        # speed of light\n",
    "qe    = -1.0                       # electron charge\n",
    "me    = 1.0                        # electron mass\n",
    "B0z   = 1.0                        # minimum of background magnetic field in z-direction\n",
    "wce   = qe*B0z/me                  # electron cyclotron frequency\n",
    "wpe   = 5*np.abs(wce)              # cold electron plasma frequency\n",
    "nuh   = 6e-2                       # ratio of cold/hot electron densities (nh/nc)\n",
    "nh    = nuh*wpe**2                 # hot electron density\n",
    "wpar  = 0.2*c                      # parallel thermal velocity of energetic particles\n",
    "wperp = 0.53*c                     # perpendicular thermal velocity of energetic particles\n",
    "\n",
    "xi    = 0.                         # inhomogeneity factor of background magnetic field\n",
    "\n",
    "bcs_d = 1                          # damping of wave fields at boundaries? (1: yes, 0: no)\n",
    "bcs_g = 1                          # field line dependence of initial distribution function? (1: yes, 0: no)\n",
    "#====================================================================================\n",
    "\n",
    "\n",
    "\n",
    "#===== initial conditions ===========================================================\n",
    "k   = 2.                           # wavenumber of initial wave field perturbations\n",
    "amp = 1e-4                         # amplitude of initial wave field perturbations\n",
    "eps = 0.                           # amplitude of spatial pertubation of initial distribution function \n",
    "\n",
    "\n",
    "Ex0 = lambda z : 0*z               # initial Ex\n",
    "Ey0 = lambda z : 0*z               # initial Ey\n",
    "Bx0 = lambda z : amp*np.sin(104*2*np.pi*z/Lz) # initial Bx\n",
    "By0 = lambda z : 0*z               # initial By\n",
    "jx0 = lambda z : 0*z               # initial jcx\n",
    "jy0 = lambda z : 0*z               # initial jcy\n",
    "#====================================================================================\n",
    "\n",
    "\n",
    "\n",
    "#===== numerical parameters =========================================================\n",
    "Lz      = 327.7                    # length of z-domain\n",
    "Nel     = 1800                     # number of elements z-direction\n",
    "T       = 1.                      # simulation time\n",
    "dt      = 0.04                     # time step\n",
    "p       = 3                        # degree of B-spline basis functions in V0\n",
    "Np      = np.int(5e6)              # number of markers\n",
    "control = 1                        # control variate for noise reduction? (1: yes, 0: no)\n",
    "\n",
    "Ld      = 0.046*Lz                 # length of damping region at each end\n",
    "#====================================================================================\n",
    "\n",
    "\n",
    "#===== evaluation points for the magnetic field======================================\n",
    "#eva_points_Bx = np.linspace(40., 280., 7)\n",
    "eva_points_Bx = np.array([100., 200., 300.])\n",
    "#====================================================================================\n",
    "\n",
    "\n",
    "\n",
    "#====== create parameter list =======================================================\n",
    "pa = np.zeros(1*(Nel + p - 1) + 5)\n",
    "\n",
    "pa[0]  = eps0\n",
    "pa[1]  = mu0\n",
    "pa[2]  = c\n",
    "pa[3]  = qe \n",
    "pa[4]  = me \n",
    "pa[5]  = B0z \n",
    "pa[6]  = wce \n",
    "pa[7]  = wpe \n",
    "pa[8]  = nuh \n",
    "pa[9]  = nh \n",
    "pa[10] = wpar \n",
    "pa[11] = wperp \n",
    "pa[12] = k  \n",
    "pa[13] = amp \n",
    "pa[14] = eps \n",
    "pa[15] = Lz \n",
    "pa[16] = Nel \n",
    "pa[17] = T \n",
    "pa[18] = dt \n",
    "pa[19] = p \n",
    "pa[20] = Np\n",
    "pa[21] = control\n",
    "pa[22] = saving_step\n",
    "\n",
    "pa[23] = xi\n",
    "pa[24] = Ld\n",
    "\n",
    "pa[29] = bcs_d\n",
    "pa[30] = bcs_g\n",
    "#====================================================================================\n",
    "\n",
    "\n",
    "\n",
    "#===== discretization of spatial domain =============================================\n",
    "dz   = Lz/Nel                                # element size\n",
    "el_b = np.linspace(0, Lz, Nel + 1)           # element boundaries\n",
    "\n",
    "Nbase0   = Nel + p                           # total number of basis functions in V0\n",
    "Nbase0_0 = Nbase0 - 2                        # number of degrees of freedom in V1\n",
    "\n",
    "Nbase1   = Nbase0 - 1                        # total number of basis functions in V1\n",
    "Nbase1_0 = Nbase1                            # number of degrees of freedom in V1\n",
    "#====================================================================================\n",
    "\n",
    "\n",
    "\n",
    "#===== some diagnostic values =======================================================\n",
    "Eh_eq = Lz*nh*me/2*(wpar**2 + 2*wperp**2)    # equilibrium energetic electron energy\n",
    "\n",
    "en_E = np.array([])                          # electric field energy\n",
    "en_B = np.array([])                          # magnetic field energy\n",
    "en_C = np.array([])                          # cold plasma energy\n",
    "en_H = np.array([])                          # energetic electron energy\n",
    "#====================================================================================\n",
    "\n",
    "\n",
    "\n",
    "#===== background field in z-direction ==============================================\n",
    "B_background_z = lambda z : B0z*(1 + xi*(z - Lz/2)**2)\n",
    "#====================================================================================\n",
    "\n",
    "\n",
    "\n",
    "#===== initial energetic electron distribution function =============================\n",
    "def fh0(z, vx, vy, vz):\n",
    "\n",
    "    xiB = 1 - B0z/B_background_z(z)\n",
    "    xiz = 1 + (wperp**2/wpar**2 - 1)*xiB*bcs_g\n",
    "\n",
    "    return (1 + eps*np.cos(k*z))*nh/((2*np.pi)**(3/2)*wpar*wperp**2)*np.exp(-vz**2/(2*wpar**2) - xiz*(vx**2 + vy**2)/(2*wperp**2))\n",
    "#====================================================================================\n",
    "\n",
    "\n",
    "\n",
    "#===== Maxwellian for control variate ===============================================\n",
    "maxwell = lambda vx, vy, vz : nh/((2*np.pi)**(3/2)*wpar*wperp**2)*np.exp(-vz**2/(2*wpar**2) - (vx**2 + vy**2)/(2*wperp**2))\n",
    "#====================================================================================\n",
    "\n",
    "\n",
    "#===== sampling distribution for initial markers ====================================\n",
    "g_sampling = lambda vx, vy, vz : 1/((2*np.pi)**(3/2)*wpar*wperp**2)*np.exp(-vz**2/(2*wpar**2) - (vx**2 + vy**2)/(2*wperp**2))*1/Lz\n",
    "#====================================================================================\n",
    "\n",
    "\n",
    "\n",
    "#===== masking function to damp wave fields near boundaries =========================\n",
    "def damp(z):\n",
    "\n",
    "    if z <= Ld:\n",
    "        return np.sin(np.pi*z/(2*Ld))\n",
    "    elif z >= Lz - Ld:\n",
    "        return np.sin(np.pi*(Lz - z)/(2*Ld))\n",
    "    else:\n",
    "        return 1.0\n",
    "#====================================================================================\n",
    "\n",
    "\n",
    "\n",
    "#===== spline knot vector, global mass matrices (in V0 and V1) and gradient matrix ==\n",
    "Tz = bsp.make_knots(el_b, p, False)\n",
    "tz = Tz[1:-1]\n",
    "\n",
    "M0, C0 = utils_opt.matrixAssembly_V0(p, Nbase0, Tz, False)\n",
    "M1 = utils_opt.matrixAssembly_V1(p, Nbase0, Tz, False)\n",
    "Mb = utils_opt.matrixAssembly_backgroundField(p, Nbase0, Tz, False, B_background_z)\n",
    "\n",
    "G = utils_opt.GRAD_1d(p, Nbase0, False)\n",
    "\n",
    "D = bsp.collocation_matrix(tz, p - 1, eva_points_Bx, False, normalize=True)\n",
    "\n",
    "print('matrix assembly done!')\n",
    "#====================================================================================\n",
    "\n",
    "\n",
    "\n",
    "#===== reserve memory for unknowns ==================================================\n",
    "ex = np.empty(Nbase0)\n",
    "ey = np.empty(Nbase0)\n",
    "bx = np.empty(Nbase1)\n",
    "by = np.empty(Nbase1)\n",
    "yx = np.empty(Nbase0)\n",
    "yy = np.empty(Nbase0)\n",
    "\n",
    "uj = np.empty(4*Nbase0_0 + 2*Nbase1_0)\n",
    "\n",
    "z_old = np.empty(Np)\n",
    "#====================================================================================\n",
    "\n",
    "\n",
    "\n",
    "#===== initial coefficients with commuting projectors ===============================\n",
    "proj = utils_opt.projectors_1d(p, Nbase0, Tz, False)\n",
    "\n",
    "ex[:] = proj.PI_0(Ex0)\n",
    "ey[:] = proj.PI_0(Ey0)\n",
    "bx[:] = proj.PI_1(Bx0)\n",
    "by[:] = proj.PI_1(By0)\n",
    "yx[:] = proj.PI_0(jx0)\n",
    "yy[:] = proj.PI_0(jy0)\n",
    "\n",
    "uj[:] = np.concatenate((ex[1:-1], ey[1:-1], bx, by, yx[1:-1], yy[1:-1]))\n",
    "\n",
    "print('projection of initial fields done!')\n",
    "#====================================================================================\n",
    "\n",
    "\n",
    "\n",
    "\n",
    "#===== construct block matrices for field update ====================================\n",
    "ZERO_00 = np.zeros((Nbase0_0, Nbase0_0))\n",
    "ZERO_01 = np.zeros((Nbase0_0, Nbase1_0))\n",
    "ZERO_11 = np.zeros((Nbase1_0, Nbase1_0))\n",
    "\n",
    "A1 = np.diag(np.ones(4*Nbase0_0 + 2*Nbase1_0))\n",
    "\n",
    "A1[0:Nbase0_0, 0:Nbase0_0] = M0\n",
    "A1[Nbase0_0:2*Nbase0_0, Nbase0_0:2*Nbase0_0] = M0\n",
    "\n",
    "A1[2*Nbase0_0 + 2*Nbase1_0:3*Nbase0_0 + 2*Nbase1_0, 2*Nbase0_0 + 2*Nbase1_0:3*Nbase0_0 + 2*Nbase1_0] = M0\n",
    "A1[3*Nbase0_0 + 2*Nbase1_0:4*Nbase0_0 + 2*Nbase1_0, 3*Nbase0_0 + 2*Nbase1_0:4*Nbase0_0 + 2*Nbase1_0] = M0\n",
    "\n",
    "A2 = np.block([[ZERO_00, ZERO_00, ZERO_01, c**2*np.dot(G.T, M1), -mu0*c**2*M0, ZERO_00], [ZERO_00, ZERO_00, -c**2*np.dot(G.T, M1), ZERO_01, ZERO_00, -mu0*c**2*M0], [ZERO_01.T, G, ZERO_11, ZERO_11, ZERO_01.T, ZERO_01.T], [-G, ZERO_01.T, ZERO_11, ZERO_11, ZERO_01.T, ZERO_01.T], [eps0*wpe**2*M0, ZERO_00, ZERO_01, ZERO_01, ZERO_00, qe/me*Mb], [ZERO_00, eps0*wpe**2*M0, ZERO_01, ZERO_01, -qe/me*Mb, ZERO_00]])\n",
    "\n",
    "LHS = sc.sparse.csc_matrix(A1 - 1/2*dt*A2)\n",
    "RHS = sc.sparse.csc_matrix(A1 + 1/2*dt*A2)\n",
    "\n",
    "LU = sc.sparse.linalg.splu(LHS)\n",
    "\n",
    "print('LU factorization done!')\n",
    "\n",
    "\n",
    "if bcs_d == 1:\n",
    "    grev = bsp.greville(Tz, p, False)\n",
    "    coll = bsp.collocation_matrix(Tz, p, grev, False)[1:-1, 1:-1]\n",
    "    gi = np.zeros(Nbase0)\n",
    "\n",
    "    for i in range(Nbase0):\n",
    "        gi[i] = damp(grev[i])\n",
    "\n",
    "    Gi = np.diag(gi[1:-1])\n",
    "\n",
    "    DAMP = np.dot(np.dot(np.linalg.inv(coll), Gi), coll)\n",
    "else:\n",
    "    DAMP = np.identity(Nbase0_0)\n",
    "    \n",
    "DAMP_block = sc.linalg.block_diag(DAMP, DAMP, np.identity(Nbase1_0), np.identity(Nbase1_0), DAMP, DAMP)\n",
    "    \n",
    "print('damping assembly done!')\n",
    "#===================================================================================="
   ]
  },
  {
   "cell_type": "code",
   "execution_count": 5,
   "metadata": {},
   "outputs": [
    {
     "data": {
      "text/plain": [
       "True"
      ]
     },
     "execution_count": 5,
     "metadata": {},
     "output_type": "execute_result"
    }
   ],
   "source": [
    "np.allclose(RHS_old.toarray(), RHS.toarray())"
   ]
  },
  {
   "cell_type": "code",
   "execution_count": 6,
   "metadata": {},
   "outputs": [
    {
     "data": {
      "text/plain": [
       "True"
      ]
     },
     "execution_count": 6,
     "metadata": {},
     "output_type": "execute_result"
    }
   ],
   "source": [
    "np.allclose(LHS_old.toarray(), LHS.toarray())"
   ]
  },
  {
   "cell_type": "code",
   "execution_count": 7,
   "metadata": {},
   "outputs": [
    {
     "data": {
      "text/plain": [
       "True"
      ]
     },
     "execution_count": 7,
     "metadata": {},
     "output_type": "execute_result"
    }
   ],
   "source": [
    "np.allclose(DAMP_block_old, DAMP_block.toarray())"
   ]
  },
  {
   "cell_type": "code",
   "execution_count": 52,
   "metadata": {},
   "outputs": [],
   "source": [
    "#===== create particles (z, vx, vy, vz, wk) and sample according to sampling distribution\n",
    "particles       = np.zeros((Np, 5), order='F', dtype=float)\n",
    "\n",
    "particles[:, 0] = np.random.rand (Np)*Lz\n",
    "particles[:, 1] = np.random.randn(Np)*wperp\n",
    "particles[:, 2] = np.random.randn(Np)*wperp\n",
    "particles[:, 3] = np.random.randn(Np)*wpar\n",
    "particles[:, 4] = np.random.rand(Np)\n",
    "\n",
    "np.save('particles', particles)\n",
    "#===================================================================================="
   ]
  },
  {
   "cell_type": "code",
   "execution_count": 21,
   "metadata": {},
   "outputs": [],
   "source": [
    "particles = np.load('particles.npy')\n",
    "z_old = np.empty(Np)\n",
    "\n",
    "jh = np.zeros(2*Nbase0)\n",
    "Fh = np.zeros(4*Nbase0_0 + 2*Nbase1_0)\n",
    "\n",
    "\n",
    "g0 = g_sampling(particles[:, 1], particles[:, 2], particles[:, 3])\n",
    "w0 = fh0(particles[:, 0], particles[:, 1], particles[:, 2], particles[:, 3])/g_sampling(particles[:, 1], particles[:, 2], particles[:, 3])"
   ]
  },
  {
   "cell_type": "code",
   "execution_count": 22,
   "metadata": {},
   "outputs": [
    {
     "data": {
      "text/plain": [
       "147.90739484884202"
      ]
     },
     "execution_count": 22,
     "metadata": {},
     "output_type": "execute_result"
    }
   ],
   "source": [
    "z_old[:] = particles[:, 0]\n",
    "utils_pic_fast.borisGemRel_bc_2(particles, -dt/2, qe, me, Tz, tz, p, ex, ey, bx, by, B0z, xi, Lz, c)\n",
    "\n",
    "particles[:, 0] = z_old\n",
    "particles[:, 4] = w0 - control*maxwell(particles[:, 1], particles[:, 2], particles[:, 3])/g0\n",
    "\n",
    "me/(2*Np) * particles[:, 4].dot(particles[:, 1]**2 + particles[:, 2]**2 + particles[:, 3]**2) + control*Eh_eq"
   ]
  },
  {
   "cell_type": "code",
   "execution_count": 16,
   "metadata": {},
   "outputs": [
    {
     "data": {
      "text/plain": [
       "array([ 0.74188978, -0.5786941 , -0.03251462, -0.32875401, -0.53128939,\n",
       "       -0.46836663,  0.40065219,  0.29878744,  1.30271792, -0.12234293])"
      ]
     },
     "execution_count": 16,
     "metadata": {},
     "output_type": "execute_result"
    }
   ],
   "source": [
    "particles[:10, 1]"
   ]
  },
  {
   "cell_type": "code",
   "execution_count": 5,
   "metadata": {},
   "outputs": [
    {
     "ename": "NameError",
     "evalue": "name 'T0' is not defined",
     "output_type": "error",
     "traceback": [
      "\u001b[0;31m---------------------------------------------------------------------------\u001b[0m",
      "\u001b[0;31mNameError\u001b[0m                                 Traceback (most recent call last)",
      "\u001b[0;32m<ipython-input-5-5ba0c326d3ac>\u001b[0m in \u001b[0;36m<module>\u001b[0;34m()\u001b[0m\n\u001b[0;32m----> 1\u001b[0;31m \u001b[0mpic\u001b[0m\u001b[0;34m.\u001b[0m\u001b[0mcurrent\u001b[0m\u001b[0;34m(\u001b[0m\u001b[0mparticles\u001b[0m\u001b[0;34m[\u001b[0m\u001b[0;34m:\u001b[0m\u001b[0;34m,\u001b[0m \u001b[0;36m0\u001b[0m\u001b[0;34m]\u001b[0m\u001b[0;34m,\u001b[0m \u001b[0mparticles\u001b[0m\u001b[0;34m[\u001b[0m\u001b[0;34m:\u001b[0m\u001b[0;34m,\u001b[0m \u001b[0;36m1\u001b[0m\u001b[0;34m:\u001b[0m\u001b[0;34m]\u001b[0m\u001b[0;34m,\u001b[0m \u001b[0mT0\u001b[0m\u001b[0;34m,\u001b[0m \u001b[0mp\u001b[0m\u001b[0;34m,\u001b[0m \u001b[0mnp\u001b[0m\u001b[0;34m.\u001b[0m\u001b[0mfloor\u001b[0m\u001b[0;34m(\u001b[0m\u001b[0mparticles\u001b[0m\u001b[0;34m[\u001b[0m\u001b[0;34m:\u001b[0m\u001b[0;34m,\u001b[0m \u001b[0;36m0\u001b[0m\u001b[0;34m]\u001b[0m\u001b[0;34m/\u001b[0m\u001b[0mdz\u001b[0m\u001b[0;34m)\u001b[0m\u001b[0;34m.\u001b[0m\u001b[0mastype\u001b[0m\u001b[0;34m(\u001b[0m\u001b[0mint\u001b[0m\u001b[0;34m)\u001b[0m \u001b[0;34m+\u001b[0m \u001b[0mp\u001b[0m\u001b[0;34m,\u001b[0m \u001b[0mjh_x\u001b[0m\u001b[0;34m,\u001b[0m \u001b[0mjh_y\u001b[0m\u001b[0;34m,\u001b[0m \u001b[0mNbase0\u001b[0m\u001b[0;34m,\u001b[0m \u001b[0mrel\u001b[0m\u001b[0;34m)\u001b[0m\u001b[0;34m\u001b[0m\u001b[0m\n\u001b[0m",
      "\u001b[0;31mNameError\u001b[0m: name 'T0' is not defined"
     ]
    }
   ],
   "source": [
    "pic.current(particles[:, 0], particles[:, 1:], T0, p, np.floor(particles[:, 0]/dz).astype(int) + p, jh_x, jh_y, Nbase0, rel)"
   ]
  },
  {
   "cell_type": "code",
   "execution_count": 11,
   "metadata": {},
   "outputs": [],
   "source": [
    "jh = np.empty(2*Nbase0, dtype=float)\n",
    "utils_pic_fast.hotCurrentRel_bc_2(particles[:, 0], particles[:, 1:], T0, p, -1., jh, 1.)"
   ]
  },
  {
   "cell_type": "code",
   "execution_count": 12,
   "metadata": {},
   "outputs": [
    {
     "data": {
      "text/plain": [
       "True"
      ]
     },
     "execution_count": 12,
     "metadata": {},
     "output_type": "execute_result"
    }
   ],
   "source": [
    "np.allclose(jh[0::2], jh_x)"
   ]
  },
  {
   "cell_type": "code",
   "execution_count": 13,
   "metadata": {},
   "outputs": [
    {
     "data": {
      "text/plain": [
       "True"
      ]
     },
     "execution_count": 13,
     "metadata": {},
     "output_type": "execute_result"
    }
   ],
   "source": [
    "np.allclose(jh[1::2], jh_y)"
   ]
  },
  {
   "cell_type": "code",
   "execution_count": 6,
   "metadata": {},
   "outputs": [],
   "source": [
    "#particles_hycho = np.copy(particles)\n",
    "particles_old   = np.copy(particles)"
   ]
  },
  {
   "cell_type": "code",
   "execution_count": 7,
   "metadata": {},
   "outputs": [
    {
     "data": {
      "text/plain": [
       "array([-3.59042551e-09,  2.23260154e-06,  9.58544172e-06, ...,\n",
       "       -9.58544172e-06, -2.23260154e-06,  3.59042551e-09])"
      ]
     },
     "execution_count": 7,
     "metadata": {},
     "output_type": "execute_result"
    }
   ],
   "source": [
    "bx"
   ]
  },
  {
   "cell_type": "code",
   "execution_count": 14,
   "metadata": {},
   "outputs": [],
   "source": [
    "ex     = np.random.rand(Nbase0)\n",
    "ey     = np.random.rand(Nbase0)\n",
    "bx     = np.random.rand(Nbase1)\n",
    "by     = np.random.rand(Nbase1)"
   ]
  },
  {
   "cell_type": "code",
   "execution_count": 39,
   "metadata": {},
   "outputs": [],
   "source": [
    "pic.pusher_reflecting(particles_hycho, -dt/2, T0, T1, p, np.floor(particles_hycho[:, 0]/dz).astype(int) + p, Lz, dz, ex, ey, bx, by, pp_0, pp_1, xi, rel)"
   ]
  },
  {
   "cell_type": "code",
   "execution_count": 8,
   "metadata": {},
   "outputs": [],
   "source": [
    "utils_pic_fast.borisGemRel_bc_2(particles_old, -dt/2, qe, me, Tz, tz, p, ex, ey, bx, by, B0z, xi, Lz, c)"
   ]
  },
  {
   "cell_type": "code",
   "execution_count": 48,
   "metadata": {},
   "outputs": [
    {
     "data": {
      "text/plain": [
       "True"
      ]
     },
     "execution_count": 48,
     "metadata": {},
     "output_type": "execute_result"
    }
   ],
   "source": [
    "np.allclose(particles_hycho, particles_old, atol=1e-14, rtol=1e-8)"
   ]
  },
  {
   "cell_type": "code",
   "execution_count": 43,
   "metadata": {},
   "outputs": [
    {
     "data": {
      "text/plain": [
       "array([-0.11215602, -0.10063501, -0.24428482,  0.04063113, -0.02269177,\n",
       "       -0.06058713,  0.39993321, -0.27301069,  0.16482462,  0.09644344])"
      ]
     },
     "execution_count": 43,
     "metadata": {},
     "output_type": "execute_result"
    }
   ],
   "source": [
    "particles_hycho[:10, 3]"
   ]
  },
  {
   "cell_type": "code",
   "execution_count": 57,
   "metadata": {},
   "outputs": [
    {
     "data": {
      "text/plain": [
       "array([-0.11215602, -0.10063501, -0.24428482,  0.04063113, -0.02269177,\n",
       "       -0.06058713,  0.39993321, -0.27301069,  0.16482462,  0.09644344])"
      ]
     },
     "execution_count": 57,
     "metadata": {},
     "output_type": "execute_result"
    }
   ],
   "source": [
    "particles_old[:10, 3]"
   ]
  },
  {
   "cell_type": "code",
   "execution_count": 9,
   "metadata": {},
   "outputs": [],
   "source": [
    "particles_old[:, 4] = w0 - control*maxwell(particles_old[:, 1], particles_old[:, 2], particles_old[:, 3])/g0"
   ]
  },
  {
   "cell_type": "code",
   "execution_count": 10,
   "metadata": {},
   "outputs": [
    {
     "data": {
      "text/plain": [
       "array([-1.97970038e-04,  4.87099696e-05,  1.79928030e-05, ...,\n",
       "        1.54546770e-03,  1.45301404e-04,  4.59360706e-04])"
      ]
     },
     "execution_count": 10,
     "metadata": {},
     "output_type": "execute_result"
    }
   ],
   "source": [
    "particles_old[:, 4]"
   ]
  },
  {
   "cell_type": "code",
   "execution_count": 11,
   "metadata": {},
   "outputs": [
    {
     "data": {
      "text/plain": [
       "147.90739484884202"
      ]
     },
     "execution_count": 11,
     "metadata": {},
     "output_type": "execute_result"
    }
   ],
   "source": [
    "me/(2*Np) * particles_old[:, 4].dot(particles_old[:, 1]**2 + particles_old[:, 2]**2 + particles_old[:, 3]**2) + control*Eh_eq "
   ]
  },
  {
   "cell_type": "code",
   "execution_count": 19,
   "metadata": {},
   "outputs": [],
   "source": [
    "np.save('particles_old', particles)"
   ]
  },
  {
   "cell_type": "code",
   "execution_count": null,
   "metadata": {},
   "outputs": [],
   "source": []
  }
 ],
 "metadata": {
  "kernelspec": {
   "display_name": "Python 3",
   "language": "python",
   "name": "python3"
  },
  "language_info": {
   "codemirror_mode": {
    "name": "ipython",
    "version": 3
   },
   "file_extension": ".py",
   "mimetype": "text/x-python",
   "name": "python",
   "nbconvert_exporter": "python",
   "pygments_lexer": "ipython3",
   "version": "3.5.2"
  }
 },
 "nbformat": 4,
 "nbformat_minor": 2
}
