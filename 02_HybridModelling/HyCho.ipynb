{
 "cells": [
  {
   "cell_type": "code",
   "execution_count": 1,
   "metadata": {},
   "outputs": [
    {
     "name": "stdout",
     "output_type": "stream",
     "text": [
      "pyccelization of pic functions done!\n",
      "matrix assembly done!\n",
      "projection of initial fields done!\n",
      "LU factorization done!\n",
      "damping assembly done!\n",
      "0 particles loaded!\n",
      "100000 particles loaded!\n",
      "200000 particles loaded!\n",
      "300000 particles loaded!\n",
      "400000 particles loaded!\n",
      "500000 particles loaded!\n",
      "600000 particles loaded!\n",
      "700000 particles loaded!\n",
      "800000 particles loaded!\n",
      "900000 particles loaded!\n",
      "1000000 particles loaded!\n",
      "1100000 particles loaded!\n",
      "1200000 particles loaded!\n",
      "particle loading done!\n",
      "time for particle push: 0.2782590389251709\n",
      "time for hot current computation: 0.08422660827636719\n",
      "time for solving linear system: 0.004591464996337891\n"
     ]
    }
   ],
   "source": [
    "import time\n",
    "start_simulation = time.time()\n",
    "\n",
    "import numpy as np\n",
    "import scipy as sc\n",
    "\n",
    "import bsplines  as bsp\n",
    "\n",
    "import HyCho_FEM as fem\n",
    "import HyCho_PIC\n",
    "\n",
    "import matplotlib.pyplot as plt\n",
    "\n",
    "from scipy.sparse.linalg import splu\n",
    "from scipy.sparse        import block_diag\n",
    "from scipy.sparse.linalg import inv\n",
    "\n",
    "import scipy.special as sp\n",
    "\n",
    "\n",
    "#====================================================================================\n",
    "#  calling epyccel\n",
    "#====================================================================================\n",
    "from pyccel.epyccel import epyccel\n",
    "pic = epyccel(HyCho_PIC)\n",
    "\n",
    "print('pyccelization of pic functions done!')\n",
    "#====================================================================================\n",
    "\n",
    "\n",
    "\n",
    "#=========================== time integration =======================================\n",
    "time_integr = 0                                                 # do time integration? (1 : yes, 0: no)\n",
    "\n",
    "#identifier  = 'run_L=327.7_Nel=3400_T=5000_dt=0.02_Np=1.5e7_nuh=6e-3_xi=8.62e-5_bc=False_k=none_p=2_CV=off_amp=none_rel=on_wperp=0.55_local'  # name of saved files\n",
    "\n",
    "identifier  = 'test_new'\n",
    "\n",
    "dir_results = 'results/'                                        # directory of where to save results\n",
    "dir_restart = 'restart_files/'                                  # directory of where to save restart files\n",
    "#====================================================================================\n",
    "\n",
    "\n",
    "\n",
    "\n",
    "#===== Is this run a restart? (restart = 0: no, restart = 1: yes) ===================\n",
    "restart            = 0\n",
    "\n",
    "max_time           = 100*60         # maximum runtime of program in minutes\n",
    "time_restart_files = 120*60         # time interval for restart files in minutes\n",
    "\n",
    "# names of restart files\n",
    "name_particles     = 'restart_files/' + identifier + '_restart=particles1.npy'\n",
    "name_fields        = 'restart_files/' + identifier + '_restart=fields1.npy'\n",
    "name_time_step     = 'restart_files/' + identifier + '_restart=time1.npy'\n",
    "name_control       = 'restart_files/' + identifier + '_restart=CV1.npy'\n",
    "#====================================================================================\n",
    "\n",
    "\n",
    "\n",
    "\n",
    "\n",
    "#===== physical parameters ==========================================================\n",
    "wpe   = 5.                         # cold electron plasma frequency\n",
    "nuh   = 6e-3                       # ratio of cold/hot electron densities (nh/nc)\n",
    "nh    = nuh*wpe**2                 # hot electron density\n",
    "wpar  = 0.2                        # parallel thermal velocity of energetic particles\n",
    "wperp = 0.55                       # perpendicular thermal velocity of energetic particles\n",
    "xi    = 8.62e-5                    # inhomogeneity factor of background magnetic field\n",
    "\n",
    "rel   = 1                          # relativistic fast electrons? (1: yes, 0: no)\n",
    "bc_d  = 1                          # damping of E and j at boundaries? (1: yes, 0: no)\n",
    "bc_f  = 1                          # field line dependence of initial distribution function? (1: yes, 0: no)\n",
    "#===================================================================================\n",
    "\n",
    "\n",
    "\n",
    "#===== numerical parameters =========================================================\n",
    "bc      = False                    # boundary conditions (True: periodic, False: homogeneous Dirichlet)\n",
    "k       = 2.                       # wavenumber of initial wave field perturbations\n",
    "Lz      = 325.                     # length of z-domain\n",
    "Nel     = 5000                     # number of elements z-direction\n",
    "T       = 0.4                      # simulation time\n",
    "dt      = 0.02                     # time step\n",
    "p       = 2                        # degree of B-spline basis functions in V0\n",
    "Np      = np.int(1.3e6)            # number of markers\n",
    "control = 0                        # control variate for noise reduction? (1: yes, 0: no)\n",
    "Ld      = 0.046*Lz                 # length of damping region at each end\n",
    "loading = 'importance sampling'    # particle loading \n",
    "                                   # 'random independently'\n",
    "                                   # 'random simultaneously'\n",
    "                                   # 'external loading'\n",
    "                                   # 'importance sampling'\n",
    "\n",
    "name_initial_particles = 'test_particles_Np=1.3e7_1.npy' # name of particle file if 'external loading'\n",
    "#====================================================================================\n",
    "\n",
    "\n",
    "#===== evaluation points for the magnetic field======================================\n",
    "eva_points_Bx = np.array([100., 120., 140., 160., 180., 200.])\n",
    "#====================================================================================\n",
    "\n",
    "\n",
    "#===== initial conditions for fields ================================================\n",
    "amp = 1e-4                         # amplitude of initial wave field perturbations\n",
    "\n",
    "Ex0 = lambda z : 0*z               # initial Ex\n",
    "Ey0 = lambda z : 0*z               # initial Ey\n",
    "\n",
    "'''\n",
    "def Bx0(z):\n",
    "    \n",
    "    value = 0.\n",
    "    modes = 1 + np.arange(int(Nel/4))\n",
    "    \n",
    "    for i in range(int(Nel/4)):\n",
    "        value += amp*np.random.rand()*np.sin(2*np.pi*modes[i]*z/Lz)\n",
    "     \n",
    "    return value\n",
    "'''\n",
    "\n",
    "\n",
    "Bx0 = lambda z : 0*z               # initial Bx\n",
    "#Bx0 = lambda z : amp*np.sin(k*z)\n",
    "\n",
    "By0 = lambda z : 0*z               # initial By\n",
    "jx0 = lambda z : 0*z               # initial jcx\n",
    "jy0 = lambda z : 0*z               # initial jcy\n",
    "#====================================================================================\n",
    "\n",
    "\n",
    "\n",
    "#===== discretization of spatial domain =============================================\n",
    "dz   = Lz/Nel                                # element size\n",
    "el_b = np.linspace(0., Lz, Nel + 1)          # element boundaries\n",
    "\n",
    "Nbase0     = Nel + p - bc*p                  # total number of basis functions in V0\n",
    "Nbase0_dof = Nbase0 - 2 + 2*bc               # number of degrees of freedom in V1\n",
    "\n",
    "Nbase1     = Nbase0 - 1 + bc                 # total number of basis functions in V1\n",
    "Nbase1_dof = Nbase1                          # number of degrees of freedom in V1\n",
    "#====================================================================================\n",
    "\n",
    "\n",
    "\n",
    "#===== some diagnostic values =======================================================\n",
    "nh       = nuh*wpe**2                                 # hot electron density\n",
    "Eh_eq    = Lz*nh/2*(wpar**2 + 2*wperp**2)             # equilibrium energetic electron energy\n",
    "\n",
    "energies = np.empty(4, dtype=float)                   # energies: E, B, cold, hot\n",
    "\n",
    "Bx       = np.empty(len(eva_points_Bx), dtype=float)  # x-component of magnetic field at some positions\n",
    "#====================================================================================\n",
    "\n",
    "\n",
    "#===== background field in z-direction ==============================================\n",
    "B_background_z = lambda z : 1. + xi*(z - Lz/2)**2\n",
    "#====================================================================================\n",
    "\n",
    "\n",
    "#===== initial energetic electron distribution function =============================\n",
    "def fh0(z, vx, vy, vz):\n",
    "\n",
    "    xiB = 1. - 1/B_background_z(z)\n",
    "    xiz = 1. + (wperp**2/wpar**2 - 1.)*xiB*bc_f\n",
    "\n",
    "    return nh/((2*np.pi)**(3/2)*wpar*wperp**2)*np.exp(-vz**2/(2*wpar**2) - xiz*(vx**2 + vy**2)/(2*wperp**2))\n",
    "#====================================================================================\n",
    "\n",
    "\n",
    "\n",
    "#===== Maxwellian for control variate ===============================================\n",
    "def maxwell(z, vx, vy, vz):\n",
    "    \n",
    "    xiB = 1. - 1/B_background_z(z)\n",
    "    xiz = 1. + (wperp**2/wpar**2 - 1.)*xiB*bc_f\n",
    "    \n",
    "    return nh/((2*np.pi)**(3/2)*wpar*wperp**2)*np.exp(-vz**2/(2*wpar**2) - xiz*(vx**2 + vy**2)/(2*wperp**2))\n",
    "#====================================================================================\n",
    "\n",
    "\n",
    "#===== sampling distribution for initial markers ====================================\n",
    "def g_sampling(z, vx, vy, vz):\n",
    "    \n",
    "    xiB = 1. - 1/B_background_z(z)\n",
    "    xiz = 1. + (wperp**2/wpar**2 - 1.)*xiB*bc_f\n",
    "    \n",
    "    if xi == 0:\n",
    "        normalization = 1.\n",
    "    else:\n",
    "        normalization = 1/(Ta + 1) + 2*Ta*np.arctan(np.sqrt(xi*(Ta + 1))*Lz/2)/(Lz*np.sqrt(xi)*(Ta + 1)**(3/2))\n",
    "        \n",
    "    return 1/((2*np.pi)**(3/2)*wpar*wperp**2*Lz*normalization)*np.exp(-vz**2/(2*wpar**2) - xiz*(vx**2 + vy**2)/(2*wperp**2))\n",
    "#====================================================================================\n",
    "\n",
    "\n",
    "\n",
    "#===== masking function to damp wave fields near boundaries =========================\n",
    "def damp(z):\n",
    "\n",
    "    if z <= Ld:\n",
    "        return np.sin(np.pi*z/(2*Ld))\n",
    "    elif z >= Lz - Ld:\n",
    "        return np.sin(np.pi*(Lz - z)/(2*Ld))\n",
    "    else:\n",
    "        return 1\n",
    "#====================================================================================\n",
    "\n",
    "\n",
    "\n",
    "#===== spline knot vector, global mass matrices (in V0 and V1) and gradient matrix ==\n",
    "T0 = bsp.make_knots(el_b, p, bc)\n",
    "T1 = T0[1:-1]\n",
    "\n",
    "M0 = fem.mass_V0(T0, p, bc)\n",
    "M1 = fem.mass_V1(T0, p, bc)\n",
    "MB = fem.mass_V0_B(T0, p, bc, B_background_z)\n",
    "\n",
    "G  = sc.sparse.csc_matrix(fem.GRAD(T0, p, bc))\n",
    "\n",
    "if bc == False:\n",
    "    M0 = M0[1:-1, 1:-1]\n",
    "    MB = MB[1:-1, 1:-1]\n",
    "    \n",
    "    G  = G[:, 1:-1]\n",
    "\n",
    "    \n",
    "D = sc.sparse.csr_matrix(bsp.collocation_matrix(T1, p - 1, eva_points_Bx, bc, normalize=True))\n",
    "print('matrix assembly done!')\n",
    "#====================================================================================\n",
    "\n",
    "\n",
    "\n",
    "#=================== coefficients for pp-forms ======================================\n",
    "if p == 3:\n",
    "    pp_0 = np.asfortranarray([[1/6, -1/(2*dz), 1/(2*dz**2), -1/(6*dz**3)], [2/3, 0., -1/dz**2, 1/(2*dz**3)], [1/6, 1/(2*dz), 1/(2*dz**2), -1/(2*dz**3)], [0., 0., 0., 1/(6*dz**3)]])\n",
    "    pp_1 = np.asfortranarray([[1/2, -1/dz, 1/(2*dz**2)], [1/2, 1/dz, -1/dz**2], [0., 0., 1/(2*dz**2)]])/dz\n",
    "elif p == 2:\n",
    "    pp_0 = np.asfortranarray([[1/2, -1/dz, 1/(2*dz**2)], [1/2, 1/dz, -1/dz**2], [0., 0., 1/(2*dz**2)]])\n",
    "    pp_1 = np.asfortranarray([[1., -1/dz], [0., 1/dz]])/dz\n",
    "else:\n",
    "    print('Only cubic and quadratic splines implemented!')\n",
    "#====================================================================================\n",
    "\n",
    "\n",
    "\n",
    "#===== reserve memory for unknowns ==================================================\n",
    "ex     = np.empty(Nbase0, dtype=float)\n",
    "ey     = np.empty(Nbase0, dtype=float)\n",
    "bx     = np.empty(Nbase1, dtype=float)\n",
    "by     = np.empty(Nbase1, dtype=float)\n",
    "yx     = np.empty(Nbase0, dtype=float)\n",
    "yy     = np.empty(Nbase0, dtype=float)\n",
    "\n",
    "uj     = np.empty(4*Nbase0_dof + 2*Nbase1_dof, dtype=float)\n",
    "z_old  = np.empty(Np, dtype=float)\n",
    "spans0 = np.empty(Np, dtype=int)\n",
    "\n",
    "jh_x   = np.empty(Nbase0, dtype=float)\n",
    "jh_y   = np.empty(Nbase0, dtype=float)\n",
    "\n",
    "Fh     = np.zeros(4*Nbase0_dof + 2*Nbase1_dof, dtype=float)\n",
    "#====================================================================================\n",
    "\n",
    "\n",
    "\n",
    "#===== initial coefficients with commuting projectors ===============================\n",
    "proj = fem.projectors_1d(T0, p, bc)\n",
    "\n",
    "ex[:] = proj.PI_0(Ex0)\n",
    "ey[:] = proj.PI_0(Ey0)\n",
    "bx[:] = proj.PI_1(Bx0)\n",
    "by[:] = proj.PI_1(By0)\n",
    "yx[:] = proj.PI_0(jx0)\n",
    "yy[:] = proj.PI_0(jy0)\n",
    "\n",
    "if bc == False:\n",
    "    uj[:] = np.concatenate((ex[1:-1], ey[1:-1], bx, by, yx[1:-1], yy[1:-1]))\n",
    "    \n",
    "else:\n",
    "    uj[:] = np.concatenate((ex, ey, bx, by, yx, yy))\n",
    "\n",
    "print('projection of initial fields done!')\n",
    "#====================================================================================\n",
    "\n",
    "\n",
    "\n",
    "#===== construct block matrices for field update ====================================\n",
    "I  = sc.sparse.identity(Nbase1_dof)\n",
    "A1 = sc.sparse.bmat([[M0, None, None, None, None, None],[None, M0, None, None, None, None], [None, None, I, None, None, None], [None, None, None, I, None, None], [None, None, None, None, M0, None], [None, None, None, None, None, M0]], format='csc')\n",
    "A2 = sc.sparse.bmat([[None, None, None, G.T.dot(M1), -M0, None],[None, None, -G.T.dot(M1), None, None, -M0], [None, G, None, None, None, None], [-G, None, None, None, None, None], [wpe**2*M0, None, None, None, None, -MB], [None, wpe**2*M0, None, None, MB, None]], format='csc')\n",
    "\n",
    "LHS = A1 - dt/2*A2\n",
    "RHS = A1 + dt/2*A2\n",
    "\n",
    "LU = sc.sparse.linalg.splu(LHS)\n",
    "print('LU factorization done!')\n",
    "\n",
    "\n",
    "if bc_d == 1:\n",
    "    \n",
    "    if bc == False:\n",
    "        greville = bsp.greville(T0, p, bc)[1:-1]\n",
    "        colloq = sc.sparse.csc_matrix(bsp.collocation_matrix(T0, p, greville, bc)[:, 1:-1])\n",
    "    else:\n",
    "        greville = bsp.greville(T0, p, bc)\n",
    "        colloq = sc.sparse.csc_matrix(bsp.collocation_matrix(T0, p, greville, bc))\n",
    "        \n",
    "    g_greville = np.zeros(Nbase0_dof, dtype=float)\n",
    "    \n",
    "    for i in range(Nbase0_dof):\n",
    "        g_greville[i] = damp(greville[i])\n",
    "            \n",
    "    G_greville = sc.sparse.diags(g_greville, 0)\n",
    "    DAMP       = inv(colloq).dot(G_greville.dot(colloq))\n",
    "             \n",
    "else:\n",
    "    DAMP = sc.sparse.identity(Nbase0_dof)\n",
    "    \n",
    "DAMP_block = sc.sparse.block_diag((DAMP, DAMP, sc.sparse.identity(Nbase1_dof), sc.sparse.identity(Nbase1_dof), DAMP, DAMP), format='csr')\n",
    "print('damping assembly done!')\n",
    "#====================================================================================\n",
    "\n",
    "\n",
    "#===== create particles (z, vx, vy, vz, wk) and sample according to sampling distribution\n",
    "particles = np.zeros((Np, 5), order='F', dtype=float)\n",
    "\n",
    "if   loading == 'random independently': \n",
    "    particles[:, 0] = np.random.rand (Np)*Lz\n",
    "    particles[:, 1] = np.random.randn(Np)*wperp\n",
    "    particles[:, 2] = np.random.randn(Np)*wperp\n",
    "    particles[:, 3] = np.random.randn(Np)*wpar\n",
    "    \n",
    "elif loading == 'random simultaneously':\n",
    "    particles[:, :4] = np.random.rand(Np, 4)\n",
    "\n",
    "    particles[:, 0]  = particles[:, 0]*Lz\n",
    "    particles[:, 1]  = sp.erfinv(2*particles[:, 1] - 1)*wperp*np.sqrt(2)\n",
    "    particles[:, 2]  = sp.erfinv(2*particles[:, 2] - 1)*wperp*np.sqrt(2)\n",
    "    particles[:, 3]  = sp.erfinv(2*particles[:, 3] - 1)*wpar*np.sqrt(2)\n",
    "    \n",
    "elif loading == 'external loading':\n",
    "    particles[:, :] = np.load(name_initial_particles)\n",
    "\n",
    "    #particles[:, 0] = particles[:, 0]*Lz\n",
    "    #particles[:, 1] = particles[:, 1]*wperp\n",
    "    #particles[:, 2] = particles[:, 2]*wperp\n",
    "    #particles[:, 3] = particles[:, 3]*wpar\n",
    "\n",
    "    particles[:, 0]  = particles[:, 0]*Lz\n",
    "    particles[:, 1]  = sp.erfinv(2*particles[:, 1] - 1)*wperp*np.sqrt(2)\n",
    "    particles[:, 2]  = sp.erfinv(2*particles[:, 2] - 1)*wperp*np.sqrt(2)\n",
    "    particles[:, 3]  = sp.erfinv(2*particles[:, 3] - 1)*wpar *np.sqrt(2)\n",
    "\n",
    "elif loading == 'importance sampling':\n",
    "    particles[:, :4] = np.random.rand(Np, 4)\n",
    "    \n",
    "    Ta               = wperp**2/wpar**2 - 1.\n",
    "    d_normalization  = 1/(Ta + 1) + 2*Ta*np.arctan(np.sqrt(xi*(Ta + 1))*Lz/2)/(Lz*np.sqrt(xi)*(Ta + 1)**(3/2))\n",
    "    d_constant       = Ta*np.arctan(np.sqrt(xi*(Ta + 1))*Lz/2)/(Lz*np.sqrt(xi)*(Ta + 1)**(3/2))\n",
    "    \n",
    "    Fz       = lambda U, z : U*d_normalization - z/(Lz*(Ta + 1)) - d_constant - Ta*np.arctan(np.sqrt(xi*(Ta + 1))*(z - Lz/2))/(Lz*np.sqrt(xi)*(Ta + 1)**(3/2))\n",
    "    Fz_prime = lambda z    : -1/(Lz*(Ta + 1)) - Ta/(Lz*np.sqrt(xi)*(Ta + 1)**(3/2))*np.sqrt(xi*(Ta + 1))/(1 + xi*(Ta + 1)*(z - Lz/2)**2)\n",
    "    \n",
    "    # Newton method for particle position (inversion of cumulative distribution function)    \n",
    "    for ip in range(Np):\n",
    "    \n",
    "        z_part = Lz/2\n",
    "        U      = np.random.rand()\n",
    "\n",
    "        while True:\n",
    "            z_part = z_part - Fz(U, z_part)/Fz_prime(z_part)\n",
    "\n",
    "            if np.abs(Fz(U, z_part)) < 1e-6:\n",
    "                particles[ip, 0] = z_part\n",
    "                break\n",
    "                \n",
    "        if ip%100000 == 0:\n",
    "            print(str(ip) + ' particles loaded!')\n",
    "    \n",
    "    particles[:, 1]  = sp.erfinv(2*particles[:, 1] - 1)*wperp*np.sqrt(2)\n",
    "    particles[:, 2]  = sp.erfinv(2*particles[:, 2] - 1)*wperp*np.sqrt(2)\n",
    "    particles[:, 3]  = sp.erfinv(2*particles[:, 3] - 1)*wpar *np.sqrt(2)         \n",
    "    \n",
    "print('particle loading done!')    \n",
    "spans0[:] = np.floor(particles[:, 0]/dz).astype(int) + p\n",
    "#====================================================================================\n",
    "\n",
    "\n",
    "\n",
    "#===== parameters for control variate ===============================================\n",
    "g0 = g_sampling(particles[:, 0], particles[:, 1], particles[:, 2], particles[:, 3])\n",
    "w0 = fh0(particles[:, 0], particles[:, 1], particles[:, 2], particles[:, 3])/g_sampling(particles[:, 0], particles[:, 1], particles[:, 2], particles[:, 3])\n",
    "#====================================================================================\n",
    "\n",
    "\n",
    "\n",
    "#===== initialize velocities by pushing back by -dt/2 and compute weights ===========\n",
    "timea = time.time()\n",
    "\n",
    "z_old[:] = particles[:, 0]\n",
    "\n",
    "if bc == True:\n",
    "    pic.pusher_periodic(particles, -dt/2, T0, T1, p, spans0, Lz, Nbase0, ex, ey, bx, by, pp_0, pp_1, rel)\n",
    "else:\n",
    "    pic.pusher_reflecting(particles, -dt/2, T0, T1, p, spans0, Lz, dz, ex, ey, bx, by, pp_0, pp_1, xi, rel)\n",
    "\n",
    "particles[:, 0] = z_old\n",
    "\n",
    "\n",
    "particles[:, 4] = w0 - control*maxwell(particles[:, 0], particles[:, 1], particles[:, 2], particles[:, 3])/g0\n",
    "\n",
    "timeb = time.time()\n",
    "print('time for particle push: ' + str(timeb - timea))\n",
    "#====================================================================================\n",
    "\n",
    "\n",
    "#===== test timing for hot current computation ======================================\n",
    "timea = time.time()\n",
    "\n",
    "pic.current(particles[:, 0], particles[:, 1:], T0, p, spans0, jh_x, jh_y, Nbase0, rel)\n",
    "\n",
    "timeb = time.time()\n",
    "print('time for hot current computation: ' + str(timeb - timea))\n",
    "#====================================================================================\n",
    "\n",
    "\n",
    "#===== test timing for linear solver ================================================\n",
    "timea = time.time()\n",
    "\n",
    "LU.solve(RHS.dot(uj) + dt*Fh)\n",
    "\n",
    "timeb = time.time()\n",
    "print('time for solving linear system: ' + str(timeb - timea))\n",
    "#====================================================================================\n",
    "\n",
    "\n",
    "\n",
    "#===== time integration by a time step dt ===========================================\n",
    "def update():\n",
    "    \n",
    "    # ... save old positions\n",
    "    z_old[:] = particles[:, 0]\n",
    "    # ...\n",
    "    \n",
    "    \n",
    "    # ... update particle velocities from n-1/2 to n+1/2 with fields at time n and positions from n to n+1 with velocities at n+1/2\n",
    "    spans0[:] = np.floor(particles[:, 0]/dz).astype(int) + p\n",
    "    \n",
    "    if bc == True:\n",
    "        pic.pusher_periodic(particles, dt, T0, T1, p, spans0, Lz, Nbase0, ex, ey, bx, by, pp_0, pp_1, rel)\n",
    "    else:\n",
    "        pic.pusher_reflecting(particles, dt, T0, T1, p, spans0, Lz, dz, ex, ey, bx, by, pp_0, pp_1, xi, rel)\n",
    "    # ...\n",
    "    \n",
    "    \n",
    "    # ... update weights with control variate\n",
    "    #particles[:, 4] = w0 - control*maxwell(particles[:, 1], particles[:, 2], particles[:, 3])/g0\n",
    "    particles[:, 4] = w0 - control*maxwell(particles[:, 0], particles[:, 1], particles[:, 2], particles[:, 3])/g0\n",
    "    # ...\n",
    "    \n",
    "    \n",
    "    # ... compute hot electron current densities\n",
    "    spans0[:] = np.floor(1/2*(z_old + particles[:, 0])/dz).astype(int) + p\n",
    "    \n",
    "    pic.current(1/2*(z_old + particles[:, 0]), particles[:, 1:], T0, p, spans0, jh_x, jh_y, Nbase0, rel)\n",
    "    # ...\n",
    "     \n",
    "    \n",
    "    # ... assemble right-hand side of weak formulation\n",
    "    if bc == True:\n",
    "        Fh[0*Nbase0_dof:1*Nbase0_dof] = -jh_x\n",
    "        Fh[1*Nbase0_dof:2*Nbase0_dof] = -jh_y\n",
    "    else:\n",
    "        Fh[0*Nbase0_dof:1*Nbase0_dof] = -jh_x[1:-1]\n",
    "        Fh[1*Nbase0_dof:2*Nbase0_dof] = -jh_y[1:-1]\n",
    "    # ...\n",
    "    \n",
    "    \n",
    "    # ... time integration of E, B, jc from n to n+1 with Crank-Nicolson method (use hot current density at n+1/2) \n",
    "    uj[:] = DAMP_block.dot(LU.solve(RHS.dot(uj) + dt*Fh))\n",
    "    # ...\n",
    "       \n",
    "        \n",
    "        \n",
    "    # ... diagnostics\n",
    "    if bc == True:\n",
    "        ex[:]  = uj[0*Nbase0_dof + 0*Nbase1_dof:1*Nbase0_dof + 0*Nbase1_dof]\n",
    "        ey[:]  = uj[1*Nbase0_dof + 0*Nbase1_dof:2*Nbase0_dof + 0*Nbase1_dof]\n",
    "        bx[:]  = uj[2*Nbase0_dof + 0*Nbase1_dof:2*Nbase0_dof + 1*Nbase1_dof]\n",
    "        by[:]  = uj[2*Nbase0_dof + 1*Nbase1_dof:2*Nbase0_dof + 2*Nbase1_dof]\n",
    "        yx[:]  = uj[2*Nbase0_dof + 2*Nbase1_dof:3*Nbase0_dof + 2*Nbase1_dof]\n",
    "        yy[:]  = uj[3*Nbase0_dof + 2*Nbase1_dof:4*Nbase0_dof + 2*Nbase1_dof]\n",
    "        \n",
    "        energies[0] = 1/2      * (ex.dot(M0.dot(ex)) + ey.dot(M0.dot(ey)))\n",
    "        energies[1] = 1/2      * (bx.dot(M1.dot(bx)) + by.dot(M1.dot(by)))\n",
    "        energies[2] = 1/wpe**2 * (yx.dot(M0.dot(yx)) + yy.dot(M0.dot(yy)))\n",
    "        energies[3] = 1/(2*Np) * particles[:, 4].dot(particles[:, 1]**2 + particles[:, 2]**2 + particles[:, 3]**2) + control*Eh_eq\n",
    "        \n",
    "        Bx[:]  = D.dot(bx)\n",
    "        \n",
    "    else:\n",
    "        ex[:]  = np.array([0] + list(uj[0*Nbase0_dof + 0*Nbase1_dof:1*Nbase0_dof + 0*Nbase1_dof]) + [0])\n",
    "        ey[:]  = np.array([0] + list(uj[1*Nbase0_dof + 0*Nbase1_dof:2*Nbase0_dof + 0*Nbase1_dof]) + [0])\n",
    "        bx[:]  = uj[2*Nbase0_dof + 0*Nbase1_dof:2*Nbase0_dof + 1*Nbase1_dof]\n",
    "        by[:]  = uj[2*Nbase0_dof + 1*Nbase1_dof:2*Nbase0_dof + 2*Nbase1_dof]\n",
    "        yx[:]  = np.array([0] + list(uj[2*Nbase0_dof + 2*Nbase1_dof:3*Nbase0_dof + 2*Nbase1_dof]) + [0])\n",
    "        yy[:]  = np.array([0] + list(uj[3*Nbase0_dof + 2*Nbase1_dof:4*Nbase0_dof + 2*Nbase1_dof]) + [0])\n",
    "        \n",
    "        energies[0] = 1/2      * (ex[1:-1].dot(M0.dot(ex[1:-1])) + ey[1:-1].dot(M0.dot(ey[1:-1])))\n",
    "        energies[1] = 1/2      * (bx.dot(M1.dot(bx)) + by.dot(M1.dot(by)))\n",
    "        energies[2] = 1/wpe**2 * (yx[1:-1].dot(M0.dot(yx[1:-1])) + yy[1:-1].dot(M0.dot(yy[1:-1])))\n",
    "        energies[3] = 1/(2*Np) * particles[:, 4].dot(particles[:, 1]**2 + particles[:, 2]**2 + particles[:, 3]**2) + control*Eh_eq\n",
    "    \n",
    "        Bx[:]  = D.dot(bx)\n",
    "    # ...\n",
    "#====================================================================================\n",
    "\n",
    "\n",
    "\n",
    "\n",
    "\n",
    "\n",
    "\n",
    "\n",
    "#============================ time loop =============================================\n",
    "if time_integr == 1:\n",
    "    \n",
    "    if restart == 0:\n",
    "        title = dir_results + identifier + '.txt'\n",
    "        file = open(title, 'ab')\n",
    "        \n",
    "        # ... initial diagnostics\n",
    "        if bc == True:\n",
    "            energies[0]  = 1/2      * (ex.dot(M0.dot(ex)) + ey.dot(M0.dot(ey)))\n",
    "            energies[1]  = 1/2      * (bx.dot(M1.dot(bx)) + by.dot(M1.dot(by)))\n",
    "            energies[2]  = 1/wpe**2 * (yx.dot(M0.dot(yx)) + yy.dot(M0.dot(yy)))\n",
    "            energies[3]  = 1/(2*Np) * particles[:, 4].dot(particles[:, 1]**2 + particles[:, 2]**2 + particles[:, 3]**2) + control*Eh_eq\n",
    "\n",
    "            Bx[:] = D.dot(bx)\n",
    "\n",
    "        else:\n",
    "            energies[0]  = 1/2      * (ex[1:-1].dot(M0.dot(ex[1:-1])) + ey[1:-1].dot(M0.dot(ey[1:-1])))\n",
    "            energies[1]  = 1/2      * (bx.dot(M1.dot(bx)) + by.dot(M1.dot(by)))\n",
    "            energies[2]  = 1/wpe**2 * (yx[1:-1].dot(M0.dot(yx[1:-1])) + yy[1:-1].dot(M0.dot(yy[1:-1])))\n",
    "            energies[3]  = 1/(2*Np) * particles[:, 4].dot(particles[:, 1]**2 + particles[:, 2]**2 + particles[:, 3]**2) + control*Eh_eq\n",
    "\n",
    "            Bx[:] = D.dot(bx)\n",
    "        # ...\n",
    "        \n",
    "        print('initial energies:', energies)\n",
    "        \n",
    "        \n",
    "        \n",
    "        \n",
    "        #================ save initial data in this section ==========================\n",
    "        #en_Bx = 1/2 * bx.dot(M1.dot(bx))\n",
    "        \n",
    "        data = np.concatenate((Bx, energies, np.array([0.])))\n",
    "        np.savetxt(file, np.reshape(data, (1, 5 + len(eva_points_Bx))), fmt = '%1.10e')\n",
    "        \n",
    "        #data = np.concatenate((bx, energies, np.array([0.])))\n",
    "        #np.savetxt(file, np.reshape(data, (1, 5 + len(bx))), fmt = '%1.10e')\n",
    "        #=============================================================================\n",
    "        \n",
    "        \n",
    "        \n",
    "        time_step = 0\n",
    "        counter   = 0\n",
    "        \n",
    "    else:\n",
    "        #===== load restart data =====================================================\n",
    "        title = dir_results + identifier + '.txt'\n",
    "        file = open(title, 'ab')\n",
    "\n",
    "        particles[:] = np.load(name_particles)\n",
    "        uj[:]        = np.load(name_fields)\n",
    "        w0           = np.load(name_control)[0]\n",
    "        g0           = np.load(name_control)[1]\n",
    "        time_step, counter = np.load(name_time_step)\n",
    "\n",
    "        if bc == True:\n",
    "            ex[:] = uj[0*Nbase0_dof + 0*Nbase1_dof:1*Nbase0_dof + 0*Nbase1_dof]\n",
    "            ey[:] = uj[1*Nbase0_dof + 0*Nbase1_dof:2*Nbase0_dof + 0*Nbase1_dof]\n",
    "            bx[:] = uj[2*Nbase0_dof + 0*Nbase1_dof:2*Nbase0_dof + 1*Nbase1_dof]\n",
    "            by[:] = uj[2*Nbase0_dof + 1*Nbase1_dof:2*Nbase0_dof + 2*Nbase1_dof]\n",
    "            yx[:] = uj[2*Nbase0_dof + 2*Nbase1_dof:3*Nbase0_dof + 2*Nbase1_dof]\n",
    "            yy[:] = uj[3*Nbase0_dof + 2*Nbase1_dof:4*Nbase0_dof + 2*Nbase1_dof]\n",
    "            \n",
    "        else:\n",
    "            ex[:] = np.array([0] + list(uj[0*Nbase0_dof + 0*Nbase1_dof:1*Nbase0_dof + 0*Nbase1_dof]) + [0])\n",
    "            ey[:] = np.array([0] + list(uj[1*Nbase0_dof + 0*Nbase1_dof:2*Nbase0_dof + 0*Nbase1_dof]) + [0])\n",
    "            bx[:] = uj[2*Nbase0_dof + 0*Nbase1_dof:2*Nbase0_dof + 1*Nbase1_dof]\n",
    "            by[:] = uj[2*Nbase0_dof + 1*Nbase1_dof:2*Nbase0_dof + 2*Nbase1_dof]\n",
    "            yx[:] = np.array([0] + list(uj[2*Nbase0_dof + 2*Nbase1_dof:3*Nbase0_dof + 2*Nbase1_dof]) + [0])\n",
    "            yy[:] = np.array([0] + list(uj[3*Nbase0_dof + 2*Nbase1_dof:4*Nbase0_dof + 2*Nbase1_dof]) + [0])\n",
    "        #=============================================================================\n",
    "        \n",
    "        \n",
    "    print('start time integration! (number of time steps : ' + str(int(T/dt)) + ')')\n",
    "    last_time = time.time()\n",
    "        \n",
    "        \n",
    "    while True:\n",
    "\n",
    "        try:\n",
    "            if (time_step*dt >= T) or ((time.time() - start_simulation)/60 > max_time):\n",
    "\n",
    "                counter += 1\n",
    "\n",
    "                np.save(dir_restart + identifier + '_restart=particles' + str(counter), particles)\n",
    "                np.save(dir_restart + identifier + '_restart=CV'        + str(counter), np.vstack((w0, g0)))\n",
    "                np.save(dir_restart + identifier + '_restart=fields'    + str(counter), uj)\n",
    "                np.save(dir_restart + identifier + '_restart=time'      + str(counter), np.array([time_step, counter]))\n",
    "\n",
    "                break\n",
    "\n",
    "            if time_step%50 == 0:\n",
    "                print('time steps finished: ' + str(time_step))\n",
    "                print('energies', energies)\n",
    "\n",
    "            if (time.time() - last_time)/60 > time_restart_files:\n",
    "                \n",
    "                counter += 1\n",
    "\n",
    "                np.save(dir_restart + identifier + '_restart=particles' + str(counter), particles)\n",
    "                np.save(dir_restart + identifier + '_restart=CV'        + str(counter), np.vstack((w0, g0)))\n",
    "                np.save(dir_restart + identifier + '_restart=fields'    + str(counter), uj)\n",
    "                np.save(dir_restart + identifier + '_restart=time'      + str(counter), np.array([time_step, counter]))\n",
    "\n",
    "                last_time = time.time()\n",
    "\n",
    "\n",
    "                \n",
    "                \n",
    "            #========================= update and add new data to file ===============\n",
    "            update()\n",
    "            \n",
    "            #en_Bx = 1/2 * bx.dot(M1.dot(bx))\n",
    "        \n",
    "            data = np.concatenate((Bx, energies, np.array([(time_step + 1)*dt])))\n",
    "            np.savetxt(file, np.reshape(data, (1, 5 + len(eva_points_Bx))), fmt = '%1.10e')\n",
    "            \n",
    "            \n",
    "            #data = np.concatenate((bx, energies, np.array([(time_step + 1)*dt])))\n",
    "            #np.savetxt(file, np.reshape(data, (1, 5 + len(bx))), fmt = '%1.10e')\n",
    "            #=========================================================================\n",
    "\n",
    "            \n",
    "            \n",
    "            time_step += 1\n",
    "\n",
    "        except KeyboardInterrupt:\n",
    "            print('Pausing...  (Hit ENTER to continue, type quit to exit.)')\n",
    "\n",
    "            file.close()\n",
    "\n",
    "            try:\n",
    "                response = input()\n",
    "                if response == 'quit':\n",
    "                    \n",
    "                    counter += 1\n",
    "\n",
    "                    np.save(dir_restart + identifier + '_restart=particles' + str(counter), particles)\n",
    "                    np.save(dir_restart + identifier + '_restart=CV'        + str(counter), np.vstack((w0, g0)))\n",
    "                    np.save(dir_restart + identifier + '_restart=fields'    + str(counter), uj)\n",
    "                    np.save(dir_restart + identifier + '_restart=time'      + str(counter), np.array([time_step, counter]))\n",
    "                    \n",
    "                    break\n",
    "\n",
    "                print('Resuming...')\n",
    "                file = open(title, 'ab')\n",
    "\n",
    "            except KeyboardInterrupt:\n",
    "\n",
    "                print('Resuming...')\n",
    "                continue\n",
    "\n",
    "    file.close()\n",
    "#==============================================================================================================="
   ]
  },
  {
   "cell_type": "code",
   "execution_count": 3,
   "metadata": {},
   "outputs": [
    {
     "data": {
      "text/plain": [
       "array([20.05091671, 20.05091671, 20.05091671, ..., 20.05091671,\n",
       "       20.05091671, 20.05091671])"
      ]
     },
     "execution_count": 3,
     "metadata": {},
     "output_type": "execute_result"
    }
   ],
   "source": [
    "particles[:, 4]"
   ]
  },
  {
   "cell_type": "code",
   "execution_count": 7,
   "metadata": {},
   "outputs": [
    {
     "data": {
      "text/plain": [
       "0.4113008555844657"
      ]
     },
     "execution_count": 7,
     "metadata": {},
     "output_type": "execute_result"
    }
   ],
   "source": [
    "1/(Ta + 1) + 2*Ta*np.arctan(np.sqrt(xi*(Ta + 1))*Lz/2)/(Lz*np.sqrt(xi)*(Ta + 1)**(3/2))"
   ]
  },
  {
   "cell_type": "code",
   "execution_count": 12,
   "metadata": {},
   "outputs": [
    {
     "data": {
      "text/plain": [
       "[<matplotlib.lines.Line2D at 0x7fee70458358>]"
      ]
     },
     "execution_count": 12,
     "metadata": {},
     "output_type": "execute_result"
    },
    {
     "data": {
      "image/png": "[encoded data removed]",
      "text/plain": [
       "<matplotlib.figure.Figure at 0x7fee8388d940>"
      ]
     },
     "metadata": {},
     "output_type": "display_data"
    }
   ],
   "source": [
    "test = np.loadtxt('results/test_sobol.txt')\n",
    "\n",
    "tn   = test[:, -1]\n",
    "en_B = test[:, -4]\n",
    "\n",
    "freq = fem.solveDispersionHybrid(k, +1, 1., -1., wpe, wpar, wperp, nuh, 0.5 + 0j, 1e-6, max_it=100)[0]\n",
    "plt.semilogy(tn[:3000], 1e-8*np.exp(2*tn[:3000]*np.imag(freq)), 'k--')\n",
    "\n",
    "\n",
    "plt.semilogy(tn, en_B)"
   ]
  },
  {
   "cell_type": "code",
   "execution_count": 18,
   "metadata": {},
   "outputs": [
    {
     "data": {
      "text/plain": [
       "[<matplotlib.lines.Line2D at 0x7fee7297ce48>]"
      ]
     },
     "execution_count": 18,
     "metadata": {},
     "output_type": "execute_result"
    },
    {
     "data": {
      "image/png": "[encoded data removed]",
      "text/plain": [
       "<matplotlib.figure.Figure at 0x7fee7291ee80>"
      ]
     },
     "metadata": {},
     "output_type": "display_data"
    }
   ],
   "source": [
    "test = np.loadtxt('results/test_random.txt')\n",
    "\n",
    "tn   = test[:, -1]\n",
    "en_B = test[:, -4]\n",
    "\n",
    "freq = fem.solveDispersionHybrid(k, +1, 1., -1., wpe, wpar, wperp, nuh, 0.5 + 0j, 1e-6, max_it=100)[0]\n",
    "plt.semilogy(tn[:2000], 1e-6*np.exp(2*tn[:2000]*np.imag(freq)), 'k--')\n",
    "\n",
    "plt.semilogy(tn, en_B)"
   ]
  },
  {
   "cell_type": "code",
   "execution_count": 20,
   "metadata": {},
   "outputs": [
    {
     "data": {
      "text/plain": [
       "[<matplotlib.lines.Line2D at 0x7fee83bdc6d8>]"
      ]
     },
     "execution_count": 20,
     "metadata": {},
     "output_type": "execute_result"
    },
    {
     "data": {
      "image/png": "[encoded data removed]",
      "text/plain": [
       "<matplotlib.figure.Figure at 0x7fee76c23358>"
      ]
     },
     "metadata": {},
     "output_type": "display_data"
    }
   ],
   "source": [
    "test = np.loadtxt('results/test_random.txt')\n",
    "\n",
    "tn   = test[:, -1]\n",
    "en_B = test[:, -4]\n",
    "\n",
    "freq = fem.solveDispersionHybrid(k, +1, 1., -1., wpe, wpar, wperp, nuh, 0.5 + 0j, 1e-6, max_it=100)[0]\n",
    "plt.semilogy(tn[:2000], 2e-7*np.exp(2*tn[:2000]*np.imag(freq)), 'k--')\n",
    "\n",
    "plt.semilogy(tn, en_B)"
   ]
  },
  {
   "cell_type": "code",
   "execution_count": 19,
   "metadata": {},
   "outputs": [
    {
     "data": {
      "text/plain": [
       "array([7.77292203e-11, 7.77600999e-09, 3.88403349e-13, 2.03575244e-01])"
      ]
     },
     "execution_count": 19,
     "metadata": {},
     "output_type": "execute_result"
    }
   ],
   "source": [
    "energies"
   ]
  },
  {
   "cell_type": "code",
   "execution_count": 86,
   "metadata": {},
   "outputs": [
    {
     "data": {
      "text/plain": [
       "<HDF5 dataset \"energies\": shape (4,), type \"<f4\">"
      ]
     },
     "execution_count": 86,
     "metadata": {},
     "output_type": "execute_result"
    }
   ],
   "source": [
    "energies = "
   ]
  },
  {
   "cell_type": "code",
   "execution_count": 24,
   "metadata": {},
   "outputs": [],
   "source": [
    "freq = fem.solveDispersionHybrid(k, +1, 1., -1., wpe, wpar, wperp, nuh, 0.5 + 0j, 1e-6, max_it=100)[0]"
   ]
  },
  {
   "cell_type": "code",
   "execution_count": 30,
   "metadata": {},
   "outputs": [
    {
     "data": {
      "text/plain": [
       "[<matplotlib.lines.Line2D at 0x7f221a1c5b70>]"
      ]
     },
     "execution_count": 30,
     "metadata": {},
     "output_type": "execute_result"
    },
    {
     "data": {
      "image/png": "[encoded data removed]",
      "text/plain": [
       "<matplotlib.figure.Figure at 0x7f2219bd5588>"
      ]
     },
     "metadata": {},
     "output_type": "display_data"
    }
   ],
   "source": [
    "tn = np.linspace(0., T, Nt + 1)\n",
    "plt.semilogy(tn, en_B)\n",
    "plt.semilogy(tn, 7e-9*np.exp(2*tn*np.imag(freq)), 'k--')"
   ]
  },
  {
   "cell_type": "code",
   "execution_count": 44,
   "metadata": {},
   "outputs": [],
   "source": [
    "freq = fem.solveDispersionHybridRelativistic(k, +1, 1., -1., wpe, wpar, wperp, nuh, 0.5, 1e-6, max_it=100)[1]"
   ]
  },
  {
   "cell_type": "code",
   "execution_count": 45,
   "metadata": {},
   "outputs": [
    {
     "data": {
      "text/plain": [
       "0.02212578867867002"
      ]
     },
     "execution_count": 45,
     "metadata": {},
     "output_type": "execute_result"
    }
   ],
   "source": [
    "freq"
   ]
  },
  {
   "cell_type": "code",
   "execution_count": 46,
   "metadata": {},
   "outputs": [
    {
     "data": {
      "text/plain": [
       "[<matplotlib.lines.Line2D at 0x7f2219a5ecf8>]"
      ]
     },
     "execution_count": 46,
     "metadata": {},
     "output_type": "execute_result"
    },
    {
     "data": {
      "image/png": "[encoded data removed]",
      "text/plain": [
       "<matplotlib.figure.Figure at 0x7f2219a0a550>"
      ]
     },
     "metadata": {},
     "output_type": "display_data"
    }
   ],
   "source": [
    "tn = np.linspace(0., T, Nt + 1)\n",
    "plt.semilogy(tn, en_B)\n",
    "plt.semilogy(tn, 7e-9*np.exp(2*tn*freq), 'k--')"
   ]
  },
  {
   "cell_type": "code",
   "execution_count": 5,
   "metadata": {},
   "outputs": [
    {
     "data": {
      "text/plain": [
       "<2x32 sparse matrix of type '<class 'numpy.float64'>'\n",
       "\twith 6 stored elements in Compressed Sparse Row format>"
      ]
     },
     "execution_count": 5,
     "metadata": {},
     "output_type": "execute_result"
    }
   ],
   "source": [
    "D"
   ]
  },
  {
   "cell_type": "code",
   "execution_count": 71,
   "metadata": {},
   "outputs": [],
   "source": [
    "import sobol_seq\n",
    "import scipy.special as sp\n",
    "from scipy.stats import norm\n",
    "\n",
    "particles[:, :4] = sobol_seq.i4_sobol_generate(4, Np)\n",
    "\n",
    "particles[:, 1] = sp.erfinv(2*particles[:, 1] - 1)*wperp*np.sqrt(2)\n",
    "particles[:, 2] = sp.erfinv(2*particles[:, 2] - 1)*wperp*np.sqrt(2)\n",
    "particles[:, 3] = sp.erfinv(2*particles[:, 3] - 1)*wpar*np.sqrt(2)\n",
    "\n",
    "#particles[:, 1] = norm.ppf(2*particles[:, 1] - 1)*wperp\n",
    "#particles[:, 2] = norm.ppf(2*particles[:, 2] - 1)*wperp\n",
    "#particles[:, 3] = norm.ppf(2*particles[:, 3] - 1)*wpar\n",
    "\n",
    "\n",
    "np.random.shuffle(particles[:, 0])\n",
    "np.random.shuffle(particles[:, 1])\n",
    "np.random.shuffle(particles[:, 2])\n",
    "np.random.shuffle(particles[:, 3])"
   ]
  },
  {
   "cell_type": "code",
   "execution_count": 75,
   "metadata": {},
   "outputs": [
    {
     "data": {
      "text/plain": [
       "(array([1.3000e+01, 6.3000e+01, 2.3100e+02, 7.1800e+02, 1.8770e+03,\n",
       "        4.1230e+03, 7.5970e+03, 1.1758e+04, 1.5280e+04, 1.6674e+04,\n",
       "        1.5280e+04, 1.1758e+04, 7.5960e+03, 4.1230e+03, 1.8770e+03,\n",
       "        7.1800e+02, 2.3200e+02, 6.2000e+01, 1.4000e+01]),\n",
       " array([-2.12      , -1.89684211, -1.67368421, -1.45052632, -1.22736842,\n",
       "        -1.00421053, -0.78105263, -0.55789474, -0.33473684, -0.11157895,\n",
       "         0.11157895,  0.33473684,  0.55789474,  0.78105263,  1.00421053,\n",
       "         1.22736842,  1.45052632,  1.67368421,  1.89684211,  2.12      ]),\n",
       " <a list of 19 Patch objects>)"
      ]
     },
     "execution_count": 75,
     "metadata": {},
     "output_type": "execute_result"
    },
    {
     "data": {
      "image/png": "[encoded data removed]",
      "text/plain": [
       "<matplotlib.figure.Figure at 0x7f2671dcee10>"
      ]
     },
     "metadata": {},
     "output_type": "display_data"
    }
   ],
   "source": [
    "bins = np.linspace(-4*wperp, 4*wperp, 20)\n",
    "plt.hist(particles[:, 1], bins=bins)\n",
    "#plt.ylim((0., 16000.))"
   ]
  },
  {
   "cell_type": "code",
   "execution_count": 76,
   "metadata": {},
   "outputs": [],
   "source": [
    "test = np.random.randn(Np)*wperp"
   ]
  },
  {
   "cell_type": "code",
   "execution_count": 77,
   "metadata": {},
   "outputs": [
    {
     "data": {
      "text/plain": [
       "(array([8.0000e+00, 5.4000e+01, 2.0700e+02, 6.7500e+02, 1.8360e+03,\n",
       "        4.2360e+03, 7.7330e+03, 1.1934e+04, 1.5023e+04, 1.6441e+04,\n",
       "        1.5287e+04, 1.1896e+04, 7.6470e+03, 4.0230e+03, 1.9510e+03,\n",
       "        7.0700e+02, 2.3800e+02, 8.5000e+01, 1.4000e+01]),\n",
       " array([-2.12      , -1.89684211, -1.67368421, -1.45052632, -1.22736842,\n",
       "        -1.00421053, -0.78105263, -0.55789474, -0.33473684, -0.11157895,\n",
       "         0.11157895,  0.33473684,  0.55789474,  0.78105263,  1.00421053,\n",
       "         1.22736842,  1.45052632,  1.67368421,  1.89684211,  2.12      ]),\n",
       " <a list of 19 Patch objects>)"
      ]
     },
     "execution_count": 77,
     "metadata": {},
     "output_type": "execute_result"
    },
    {
     "data": {
      "image/png": "[encoded data removed]",
      "text/plain": [
       "<matplotlib.figure.Figure at 0x7f2671d6b278>"
      ]
     },
     "metadata": {},
     "output_type": "display_data"
    }
   ],
   "source": [
    "bins = np.linspace(-4*wperp, 4*wperp, 20)\n",
    "plt.hist(test, bins=bins)"
   ]
  },
  {
   "cell_type": "code",
   "execution_count": null,
   "metadata": {},
   "outputs": [],
   "source": []
  }
 ],
 "metadata": {
  "kernelspec": {
   "display_name": "Python 3",
   "language": "python",
   "name": "python3"
  },
  "language_info": {
   "codemirror_mode": {
    "name": "ipython",
    "version": 3
   },
   "file_extension": ".py",
   "mimetype": "text/x-python",
   "name": "python",
   "nbconvert_exporter": "python",
   "pygments_lexer": "ipython3",
   "version": "3.5.2"
  }
 },
 "nbformat": 4,
 "nbformat_minor": 2
}
