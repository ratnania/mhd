{
 "cells": [
  {
   "cell_type": "code",
   "execution_count": 1,
   "metadata": {},
   "outputs": [],
   "source": [
    "import numpy as np\n",
    "import matplotlib.pyplot as plt\n",
    "import Utilitis_HybridCode as utils"
   ]
  },
  {
   "cell_type": "code",
   "execution_count": 2,
   "metadata": {},
   "outputs": [],
   "source": [
    "data = np.loadtxt('Results/02_DipoleField/02_NewCode/test_NewCode_2.txt' )"
   ]
  },
  {
   "cell_type": "code",
   "execution_count": 3,
   "metadata": {},
   "outputs": [],
   "source": [
    "pa = data[1]"
   ]
  },
  {
   "cell_type": "code",
   "execution_count": 4,
   "metadata": {},
   "outputs": [],
   "source": [
    "en_B = data[1:,-1]"
   ]
  },
  {
   "cell_type": "code",
   "execution_count": 6,
   "metadata": {},
   "outputs": [],
   "source": [
    "Nt_data = len(en_B) - 1\n",
    "dt_data = 0.1\n",
    "tn = np.linspace(0, 0.1*Nt_data, Nt_data + 1)"
   ]
  },
  {
   "cell_type": "code",
   "execution_count": 10,
   "metadata": {},
   "outputs": [
    {
     "data": {
      "text/plain": [
       "(0.0005, 1.0)"
      ]
     },
     "execution_count": 10,
     "metadata": {},
     "output_type": "execute_result"
    },
    {
     "data": {
      "image/png": "[encoded data removed]",
      "text/plain": [
       "<matplotlib.figure.Figure at 0x7f9d74679048>"
      ]
     },
     "metadata": {},
     "output_type": "display_data"
    }
   ],
   "source": [
    "gamma = 0.012961128984215562\n",
    "plt.semilogy(tn, en_B)\n",
    "t2 = np.linspace(0, 200, 100)\n",
    "plt.semilogy(t2, 5e-4*np.exp(gamma*2*t2))\n",
    "plt.xlim((0, 5000))\n",
    "plt.ylim((5e-4, 1e-0))"
   ]
  },
  {
   "cell_type": "code",
   "execution_count": 11,
   "metadata": {},
   "outputs": [
    {
     "data": {
      "text/plain": [
       "9556"
      ]
     },
     "execution_count": 11,
     "metadata": {},
     "output_type": "execute_result"
    }
   ],
   "source": [
    "Nt_data"
   ]
  },
  {
   "cell_type": "code",
   "execution_count": 12,
   "metadata": {},
   "outputs": [],
   "source": [
    "bsp = utils.createBasis(327.7, 1024, 3, 2)[0]"
   ]
  },
  {
   "cell_type": "code",
   "execution_count": 13,
   "metadata": {},
   "outputs": [],
   "source": [
    "bx = data[1:, 0:1027]"
   ]
  },
  {
   "cell_type": "code",
   "execution_count": 14,
   "metadata": {},
   "outputs": [],
   "source": [
    "el_b = np.linspace(0, 327.7, 1024 + 1)\n",
    "el_b[-1] += 1e-8\n",
    "zj = np.linspace(0, 327.7, 1024 + 1)"
   ]
  },
  {
   "cell_type": "code",
   "execution_count": 15,
   "metadata": {},
   "outputs": [],
   "source": [
    "Bx = np.zeros(Nt_data + 1)\n",
    "\n",
    "for j in range(Nt_data + 1):\n",
    "    Bx[j] = utils.evaluation(bx[j], bsp, el_b, np.array([327.7/2 - 25.]), bcs = 2)"
   ]
  },
  {
   "cell_type": "code",
   "execution_count": 16,
   "metadata": {},
   "outputs": [],
   "source": [
    "from scipy import signal\n",
    "from matplotlib.colors import LogNorm\n",
    "f, t, Sxx = signal.spectrogram(Bx, 1/dt_data)\n",
    "om = 2*np.pi*f"
   ]
  },
  {
   "cell_type": "code",
   "execution_count": 19,
   "metadata": {},
   "outputs": [
    {
     "data": {
      "text/plain": [
       "(0, 10000)"
      ]
     },
     "execution_count": 19,
     "metadata": {},
     "output_type": "execute_result"
    },
    {
     "data": {
      "image/png": "[encoded data removed]",
      "text/plain": [
       "<matplotlib.figure.Figure at 0x7f9d738e9048>"
      ]
     },
     "metadata": {},
     "output_type": "display_data"
    }
   ],
   "source": [
    "lvls = np.logspace(-2, 0, 50)\n",
    "#plt.contourf(t, om, Sxx/Sxx.max(), 100, norm = LogNorm(), levels = lvls, cmap = 'jet')\n",
    "plt.contourf(t, om, Sxx/Sxx.max(), 100)\n",
    "plt.ylim((0, 1))\n",
    "plt.colorbar()\n",
    "plt.xlim((0, 10000))"
   ]
  },
  {
   "cell_type": "code",
   "execution_count": 17,
   "metadata": {},
   "outputs": [
    {
     "data": {
      "text/plain": [
       "array([ 12.8,  35.2,  57.6,  80. , 102.4, 124.8, 147.2, 169.6, 192. ,\n",
       "       214.4, 236.8, 259.2, 281.6, 304. , 326.4, 348.8, 371.2, 393.6,\n",
       "       416. , 438.4, 460.8, 483.2, 505.6, 528. , 550.4, 572.8, 595.2,\n",
       "       617.6, 640. , 662.4, 684.8])"
      ]
     },
     "execution_count": 17,
     "metadata": {},
     "output_type": "execute_result"
    }
   ],
   "source": [
    "t"
   ]
  },
  {
   "cell_type": "code",
   "execution_count": null,
   "metadata": {},
   "outputs": [],
   "source": []
  }
 ],
 "metadata": {
  "kernelspec": {
   "display_name": "Python 3",
   "language": "python",
   "name": "python3"
  },
  "language_info": {
   "codemirror_mode": {
    "name": "ipython",
    "version": 3
   },
   "file_extension": ".py",
   "mimetype": "text/x-python",
   "name": "python",
   "nbconvert_exporter": "python",
   "pygments_lexer": "ipython3",
   "version": "3.5.2"
  }
 },
 "nbformat": 4,
 "nbformat_minor": 2
}
