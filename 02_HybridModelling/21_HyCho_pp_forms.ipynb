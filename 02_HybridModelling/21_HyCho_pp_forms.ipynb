{
 "cells": [
  {
   "cell_type": "code",
   "execution_count": 2,
   "metadata": {},
   "outputs": [],
   "source": [
    "import numpy as np\n",
    "import sympy as sy"
   ]
  },
  {
   "cell_type": "code",
   "execution_count": 3,
   "metadata": {},
   "outputs": [],
   "source": [
    "p   = 3\n",
    "Nel = 5\n",
    "\n",
    "t, dt = sy.symbols('t, dt')\n",
    "knots = (np.arange(Nel + 1 + 2*p) - p)*dt"
   ]
  },
  {
   "cell_type": "code",
   "execution_count": 4,
   "metadata": {},
   "outputs": [
    {
     "data": {
      "text/plain": [
       "array([-3*dt, -2*dt, -dt, 0, dt, 2*dt, 3*dt, 4*dt, 5*dt, 6*dt, 7*dt, 8*dt],\n",
       "      dtype=object)"
      ]
     },
     "execution_count": 4,
     "metadata": {},
     "output_type": "execute_result"
    }
   ],
   "source": [
    "knots"
   ]
  },
  {
   "cell_type": "code",
   "execution_count": 6,
   "metadata": {},
   "outputs": [],
   "source": [
    "N3 = [[[]], [[], []], [[], [], []], [[], [], [], []]]\n",
    "\n",
    "# initialization\n",
    "for i in range(len(knots) - 1):\n",
    "    N3[0][0].append(1)\n",
    "\n",
    "# recursion\n",
    "for i in range(1, p + 1):\n",
    "    \n",
    "    pk = i\n",
    "    \n",
    "    for j in range(len(knots) - pk - 1):\n",
    "        for k in range(pk + 1):\n",
    "\n",
    "            if k == 0:\n",
    "\n",
    "                N3[i][k].append(sy.expand((t - knots[j])/(knots[j + pk] - knots[j])*N3[i - 1][k][j] + (knots[j + pk + 1] - t)/(knots[j + pk + 1] - knots[j + 1])*0))\n",
    "\n",
    "            elif k == pk:\n",
    "\n",
    "                N3[i][k].append(sy.expand((t - knots[j])/(knots[j + pk] - knots[j])*0 + (knots[j + pk + 1] - t)/(knots[j + pk + 1] - knots[j + 1])*N3[i - 1][k - 1][j + 1]))\n",
    "                \n",
    "            else:\n",
    "                \n",
    "                N3[i][k].append(sy.expand((t - knots[j])/(knots[j + pk] - knots[j])*N3[i - 1][k][j] + (knots[j + pk + 1] - t)/(knots[j + pk + 1] - knots[j + 1])*N3[i - 1][k - 1][j + 1]))"
   ]
  },
  {
   "cell_type": "code",
   "execution_count": 7,
   "metadata": {},
   "outputs": [
    {
     "data": {
      "text/plain": [
       "1/6 - t/(2*dt) + t**2/(2*dt**2) - t**3/(6*dt**3)"
      ]
     },
     "execution_count": 7,
     "metadata": {},
     "output_type": "execute_result"
    }
   ],
   "source": [
    "N3[3][3][0]"
   ]
  },
  {
   "cell_type": "code",
   "execution_count": 8,
   "metadata": {},
   "outputs": [],
   "source": [
    "p   = 2\n",
    "Nel = 5\n",
    "\n",
    "t, dt = sy.symbols('t, dt')\n",
    "knots = (np.arange(Nel + 1 + 2*p) - p)*dt"
   ]
  },
  {
   "cell_type": "code",
   "execution_count": 9,
   "metadata": {},
   "outputs": [
    {
     "data": {
      "text/plain": [
       "array([-2*dt, -dt, 0, dt, 2*dt, 3*dt, 4*dt, 5*dt, 6*dt, 7*dt],\n",
       "      dtype=object)"
      ]
     },
     "execution_count": 9,
     "metadata": {},
     "output_type": "execute_result"
    }
   ],
   "source": [
    "knots"
   ]
  },
  {
   "cell_type": "code",
   "execution_count": 10,
   "metadata": {},
   "outputs": [],
   "source": [
    "N2 = [[[]], [[], []], [[], [], []]]\n",
    "\n",
    "# initialization\n",
    "for i in range(len(knots) - 1):\n",
    "    N2[0][0].append(1)\n",
    "\n",
    "# recursion\n",
    "for i in range(1, p + 1):\n",
    "    \n",
    "    pk = i\n",
    "    \n",
    "    for j in range(len(knots) - pk - 1):\n",
    "        for k in range(pk + 1):\n",
    "\n",
    "            if k == 0:\n",
    "\n",
    "                N2[i][k].append(sy.expand((t - knots[j])/(knots[j + pk] - knots[j])*N2[i - 1][k][j] + (knots[j + pk + 1] - t)/(knots[j + pk + 1] - knots[j + 1])*0))\n",
    "\n",
    "            elif k == pk:\n",
    "\n",
    "                N2[i][k].append(sy.expand((t - knots[j])/(knots[j + pk] - knots[j])*0 + (knots[j + pk + 1] - t)/(knots[j + pk + 1] - knots[j + 1])*N2[i - 1][k - 1][j + 1]))\n",
    "                \n",
    "            else:\n",
    "                \n",
    "                N2[i][k].append(sy.expand((t - knots[j])/(knots[j + pk] - knots[j])*N2[i - 1][k][j] + (knots[j + pk + 1] - t)/(knots[j + pk + 1] - knots[j + 1])*N2[i - 1][k - 1][j + 1]))"
   ]
  },
  {
   "cell_type": "code",
   "execution_count": 13,
   "metadata": {},
   "outputs": [
    {
     "data": {
      "text/plain": [
       "t**2/(2*dt**2)"
      ]
     },
     "execution_count": 13,
     "metadata": {},
     "output_type": "execute_result"
    }
   ],
   "source": [
    "N2[2][0][2]"
   ]
  },
  {
   "cell_type": "code",
   "execution_count": 14,
   "metadata": {},
   "outputs": [],
   "source": [
    "p   = 1\n",
    "Nel = 5\n",
    "\n",
    "t, dt = sy.symbols('t, dt')\n",
    "knots = (np.arange(Nel + 1 + 2*p) - p)*dt"
   ]
  },
  {
   "cell_type": "code",
   "execution_count": 15,
   "metadata": {},
   "outputs": [
    {
     "data": {
      "text/plain": [
       "array([-dt, 0, dt, 2*dt, 3*dt, 4*dt, 5*dt, 6*dt], dtype=object)"
      ]
     },
     "execution_count": 15,
     "metadata": {},
     "output_type": "execute_result"
    }
   ],
   "source": [
    "knots"
   ]
  },
  {
   "cell_type": "code",
   "execution_count": 16,
   "metadata": {},
   "outputs": [],
   "source": [
    "N1 = [[[]], [[], []]]\n",
    "\n",
    "# initialization\n",
    "for i in range(len(knots) - 1):\n",
    "    N1[0][0].append(1)\n",
    "\n",
    "# recursion\n",
    "for i in range(1, p + 1):\n",
    "    \n",
    "    pk = i\n",
    "    \n",
    "    for j in range(len(knots) - pk - 1):\n",
    "        for k in range(pk + 1):\n",
    "\n",
    "            if k == 0:\n",
    "\n",
    "                N1[i][k].append(sy.expand((t - knots[j])/(knots[j + pk] - knots[j])*N1[i - 1][k][j] + (knots[j + pk + 1] - t)/(knots[j + pk + 1] - knots[j + 1])*0))\n",
    "\n",
    "            elif k == pk:\n",
    "\n",
    "                N1[i][k].append(sy.expand((t - knots[j])/(knots[j + pk] - knots[j])*0 + (knots[j + pk + 1] - t)/(knots[j + pk + 1] - knots[j + 1])*N1[i - 1][k - 1][j + 1]))\n",
    "                \n",
    "            else:\n",
    "                \n",
    "                N1[i][k].append(sy.expand((t - knots[j])/(knots[j + pk] - knots[j])*N1[i - 1][k][j] + (knots[j + pk + 1] - t)/(knots[j + pk + 1] - knots[j + 1])*N1[i - 1][k - 1][j + 1]))"
   ]
  },
  {
   "cell_type": "code",
   "execution_count": 18,
   "metadata": {},
   "outputs": [
    {
     "data": {
      "text/plain": [
       "t/dt"
      ]
     },
     "execution_count": 18,
     "metadata": {},
     "output_type": "execute_result"
    }
   ],
   "source": [
    "N1[1][0][1]"
   ]
  },
  {
   "cell_type": "code",
   "execution_count": null,
   "metadata": {},
   "outputs": [],
   "source": []
  }
 ],
 "metadata": {
  "kernelspec": {
   "display_name": "Python 3",
   "language": "python",
   "name": "python3"
  },
  "language_info": {
   "codemirror_mode": {
    "name": "ipython",
    "version": 3
   },
   "file_extension": ".py",
   "mimetype": "text/x-python",
   "name": "python",
   "nbconvert_exporter": "python",
   "pygments_lexer": "ipython3",
   "version": "3.5.2"
  }
 },
 "nbformat": 4,
 "nbformat_minor": 2
}
